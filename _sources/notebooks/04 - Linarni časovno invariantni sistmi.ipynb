{
 "cells": [
  {
   "cell_type": "markdown",
   "id": "b12c0038",
   "metadata": {},
   "source": [
    "(sec:LTI)=\n",
    "# Linearni časovno invariantni sistemi"
   ]
  },
  {
   "cell_type": "markdown",
   "id": "7937b5c4-2a8b-4a9b-b3cb-9ed803e6f89c",
   "metadata": {},
   "source": [
    "## Sistem z eno prostostno stopnjo\n",
    "\n",
    "The model of a SDOF system can be described with a nonhomogeneous second order differential equation:\n",
    "\n",
    "$$\n",
    "m\\,\\ddot{x}(t)+c\\,\\dot{x}(t)+k\\,x(t)=f(t),\n",
    "$$"
   ]
  },
  {
   "cell_type": "markdown",
   "id": "396bd569-4c9c-4edb-affc-8dc159e0f7f0",
   "metadata": {},
   "source": [
    "where $f(t)$ is the excitation force. The solution of the nonhomogeneous equation is in the form of:\n",
    "\n",
    "$$\n",
    "x(t) = x_{h}(t) + x_{p}(t),\n",
    "$$\n",
    "\n",
    "where $x_{p}$ is the particular solution and $x_{h}$ the homogeneous solution."
   ]
  },
  {
   "cell_type": "markdown",
   "id": "dcd42bbb-d88b-4367-9767-a7f4cc042c6c",
   "metadata": {},
   "source": [
    "### Free-response (homogeneous solution)\n",
    "\n",
    "Without external force $f(t)=0$, the homogeneous solution is obtained from:\n",
    "\n",
    "$$\n",
    "m\\,\\ddot{x}_{h}(t)+c\\,\\dot{x}_{h}(t)+k\\,x_{h}(t)=0.\n",
    "$$\n",
    "\n",
    "By assuming the solution to $x_{h}(t)$ in the form of:\n",
    "\n",
    "$$\n",
    "x_{h}(t)=X_{h}\\,e^{\\lambda \\,t},\n",
    "$$\n",
    "\n",
    "where $X_{h}$ and $\\lambda$ are the unknown (to be determined) displacement amplitude and eigenvalue, respectively. With the assumption, the homogenous part takes the form of:\n",
    "\n",
    "$$\n",
    "\\lambda^2\\,m\\,X_{h}\\,e^{\\lambda \\,t}+\\lambda\\,c\\,X_{h}\\,e^{\\lambda \\,t}+k\\,X_{h}\\,e^{\\lambda \\,t}=0.\n",
    "$$"
   ]
  },
  {
   "cell_type": "markdown",
   "id": "e29ff358-b52c-44bf-8664-007de0e1a74e",
   "metadata": {},
   "source": [
    "After extraction:\n",
    "\n",
    "$$\n",
    "\\left(\\lambda^2\\,m+\\lambda\\,c+k\\right)\\,X_{h}\\,e^{\\lambda \\,t}=0\n",
    "$$\n",
    "\n",
    "the non-trivial solution ($X_{h}\\,e^{\\lambda \\,t}\\neq0$) can be obtained from the characteristic equation:\n",
    "\n",
    "$$\n",
    "\\lambda^2\\,m+\\lambda\\,c+k=0\n",
    "$$\n",
    "\n",
    "The solution of the characteristic equation~\\eqref{eq:homogenous_characteristic} is:\n",
    "\n",
    "$$\n",
    "\\lambda_{1,2}=-\\frac{c}{2\\,m} \\pm \\frac{\\sqrt{c^2-4\\,k\\,m}}{2\\,m},\n",
    "$$\n",
    "\n",
    "where $\\lambda^2$ are eigenvalues of the system and are in general complex valued.\n"
   ]
  },
  {
   "cell_type": "markdown",
   "id": "ecf2717d-bb62-4b14-a58c-42536233784d",
   "metadata": {},
   "source": [
    "With regard to the relation between the inertial, elastic and damping forces the solution is:\n",
    "\n",
    "* **overdamped**: if the damping forces prevail the elastic and inertial forces ($c^2\\geq 4\\,k\\,m$),\n",
    "* **critically damped**: if the damping forces equal the elastic and inertial forces ($c^2=4\\,k\\,m$),\n",
    "* **underdamped**: if the elastic and inertial forces prevail the damping forces ($c^2\\leq 4\\,k\\,m$)."
   ]
  },
  {
   "cell_type": "markdown",
   "id": "4d08aaf9-3cb0-4d2d-9743-b47a7c569c85",
   "metadata": {},
   "source": [
    "In case of overdamped and critically damped system, the solution is real valued and motion is not oscillatory. \n",
    "\n",
    "In vibration fatigue research we are focused into underdamped case when the eigenvalues are complex resulting in oscillatory motion. Due to this reason this book focuses on underdamped case, only.\n",
    "\n",
    "In case of underdamped systems, the complex eigenvalues are conjugated pairs and the mass $m$, damping $c$ and stiffness $k$ and can be related to the undamped angular natural frequency (also resonant frequency, eigenfrequency):\n",
    "\n",
    "$$\n",
    "\\omega_0 = \\sqrt{\\frac{k}{m}}.\n",
    "$$\n",
    "\n",
    "It is important to note here that, in linear systems, the prestress does not change the natural frequency."
   ]
  },
  {
   "cell_type": "markdown",
   "id": "ca56184c-ca0b-40ab-9b20-418850f652ce",
   "metadata": {},
   "source": [
    "Further, if critical damping is defined as:\n",
    "\n",
    "$$\n",
    "c_{c} = 2\\,\\sqrt{k\\,m},\n",
    "$$\n",
    "\n",
    "then the damping can be defined using the damping ratio:\n",
    "\n",
    "$$\n",
    "\\zeta = \\frac{c}{c_{c}}.\n",
    "$$"
   ]
  },
  {
   "cell_type": "markdown",
   "id": "712f03fa-a15e-4855-a567-479e6903ba07",
   "metadata": {},
   "source": [
    "With the undamped natural frequency $\\omega_0$ and the damping ratio $\\zeta$, the homogeneous differential equation can be rewritten to standard form:\n",
    "\n",
    "$$\n",
    "\\ddot{x}_{h}(t)+2\\,\\zeta\\,\\omega_0\\,\\dot{x}_{h}(t)+\\omega_0^2\\,x_{h}(t)=0.\n",
    "$$\n",
    "\n",
    "Further, $\\omega_0$ and $\\zeta$ can be inserted into the Eq.\\eqref{eq:lambda_12}:\n",
    "\n",
    "$$\n",
    "\\lambda_{1,2}=-\\zeta\\, \\omega_0 \\pm \\mathrm{i}\\,\\omega_{d},\n",
    "$$\n",
    "\n",
    "where:\n",
    "\n",
    "$$\n",
    "\\omega_{d} = \\omega_0\\,\\sqrt{1-\\zeta^2}\n",
    "$$\n",
    "\n",
    "is called the damped angular natural frequency."
   ]
  },
  {
   "cell_type": "markdown",
   "id": "31708920-abc7-46dd-a481-356e33acc362",
   "metadata": {},
   "source": [
    "The response of the system is obtained using the eigenvalues from Eq. \\eqref{eq:eigenvalue} in Eq.\\eqref{eq:predisposed_solution}:\n",
    "\n",
    "$$\n",
    "\\begin{split}\n",
    "    x_{h}(t)&=X_{h,1}\\,e^{\\lambda_1 \\,t}+X_{h,2}\\,e^{\\lambda_2 \\,t}\\\\\n",
    "    &=e^{-\\zeta\\, \\omega_0\\,t}\\,\n",
    "    \\left(\n",
    "    X_{h,1}\\,e^{+ \\mathrm{i}\\, \\omega_{d}\\,t}+X_{h,2}\\,e^{- \\mathrm{i}\\, \\omega_{d} \\,t}\n",
    "    \\right).\n",
    "\\end{split}\n",
    "$$\n",
    "$X_{h,1}$ and $X_{h,2}$ depend on the initial condition.\n"
   ]
  },
  {
   "cell_type": "markdown",
   "id": "df3cf5a9-5645-4720-b3f2-4fe22a54e7ee",
   "metadata": {},
   "source": [
    "Later, it will be clear that the initial conditions where the system starts from the equilibrium with a non-zero velocity:\n",
    "\n",
    "$$\n",
    "\\begin{aligned}\n",
    "\t\tx(0)&=0\\to& X_{h,1}+X_{h,2}&=0\\\\\n",
    "\t\t\\dot x(0)&=\\dot x_0\\to& X_{h,1}\\,\\lambda_1+X_{h,2}\\,\\lambda_2&=\\dot x_0\n",
    "\t\\end{aligned}\n",
    "$$\n",
    "\n",
    "are particularly important. From Eq. \\eqref{eq:initial_velocity} the following solution is obtained:\n",
    "\n",
    "$$\n",
    "x_{h}(t)=\\frac{\\dot x_0}{\\omega_{d}}\\,e^{-\\zeta\\,\\omega_0\\,t}\\,\\sin(\\omega_{d}\\,t).\n",
    "$$"
   ]
  },
  {
   "cell_type": "code",
   "execution_count": null,
   "id": "01474490-d19d-4356-ab91-d196afcbbcb2",
   "metadata": {},
   "outputs": [],
   "source": []
  }
 ],
 "metadata": {
  "kernelspec": {
   "display_name": "Python 3 (ipykernel)",
   "language": "python",
   "name": "python3"
  },
  "language_info": {
   "codemirror_mode": {
    "name": "ipython",
    "version": 3
   },
   "file_extension": ".py",
   "mimetype": "text/x-python",
   "name": "python",
   "nbconvert_exporter": "python",
   "pygments_lexer": "ipython3",
   "version": "3.9.4"
  },
  "toc-showmarkdowntxt": true,
  "toc-showtags": true
 },
 "nbformat": 4,
 "nbformat_minor": 5
}
