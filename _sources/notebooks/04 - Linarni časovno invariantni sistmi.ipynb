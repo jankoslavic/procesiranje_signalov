{
 "cells": [
  {
   "cell_type": "markdown",
   "id": "b12c0038",
   "metadata": {},
   "source": [
    "(sec:LTI)=\n",
    "# 4. Linearni časovno invariantni sistemi z eno prostostno stopnjo"
   ]
  },
  {
   "cell_type": "markdown",
   "id": "7937b5c4-2a8b-4a9b-b3cb-9ed803e6f89c",
   "metadata": {},
   "source": [
    "Sistema z eno prostostno stopnjo (ang. single degree of freedom system - SDOF, slika spodaj) lahko opišemo z nehomogeno diferencialno enačbo drugega reda:\n",
    "\n",
    "$$\n",
    "m\\,\\ddot{x}(t)+c\\,\\dot{x}(t)+k\\,x(t)=f(t),\n",
    "$$\n",
    "\n",
    "![structural_SDOF_model](./images/structural_SDOF_model.svg)"
   ]
  },
  {
   "cell_type": "markdown",
   "id": "396bd569-4c9c-4edb-affc-8dc159e0f7f0",
   "metadata": {},
   "source": [
    "kjer je $f(t)$ vzbujevalna sila. Rešitev nehomogone enačbe je v obliki:\n",
    "\n",
    "$$\n",
    "x(t) = x_{h}(t) + x_{p}(t),\n",
    "$$\n",
    "\n",
    "kjer je $x_{p}$ partikularna in $x_{h}$ homogena rešitev."
   ]
  },
  {
   "cell_type": "markdown",
   "id": "dcd42bbb-d88b-4367-9767-a7f4cc042c6c",
   "metadata": {},
   "source": [
    "## Prosti odziv (homogena rešitev)\n",
    "\n",
    "Če vzbujevalne sile ni $f(t)=0$, je homogena rešitev pridobljena iz:\n",
    "\n",
    "$$\n",
    "m\\,\\ddot{x}_{h}(t)+c\\,\\dot{x}_{h}(t)+k\\,x_{h}(t)=0.\n",
    "$$\n",
    "\n",
    "Uporabimo nastevek za rešitev $x_{h}(t)$:\n",
    "\n",
    "$$\n",
    "x_{h}(t)=X_{h}\\,e^{\\lambda \\,t},\n",
    "$$\n",
    "\n",
    "kjer sta amplituda premika $X_{h}$ in lastna vrednost $\\lambda$ neznani (in ju je treba določiti). Vstavimo nastavek v diferencialno enačbo:\n",
    "\n",
    "$$\n",
    "\\lambda^2\\,m\\,X_{h}\\,e^{\\lambda \\,t}+\\lambda\\,c\\,X_{h}\\,e^{\\lambda \\,t}+k\\,X_{h}\\,e^{\\lambda \\,t}=0.\n",
    "$$"
   ]
  },
  {
   "cell_type": "markdown",
   "id": "e29ff358-b52c-44bf-8664-007de0e1a74e",
   "metadata": {},
   "source": [
    "Izraz uredimo:\n",
    "\n",
    "$$\n",
    "\\left(\\lambda^2\\,m+\\lambda\\,c+k\\right)\\,X_{h}\\,e^{\\lambda \\,t}=0.\n",
    "$$\n",
    "\n",
    "Netrivialno ($X_{h}\\,e^{\\lambda \\,t}\\neq0$) rešitev določimo na podlagi karakteristične enačbe:\n",
    "\n",
    "$$\n",
    "\\lambda^2\\,m+\\lambda\\,c+k=0.\n",
    "$$\n",
    "\n",
    "Rešitev karakteristične enačbe je:\n",
    "\n",
    "$$\n",
    "\\lambda_{1,2}=-\\frac{c}{2\\,m} \\pm \\frac{\\sqrt{c^2-4\\,k\\,m}}{2\\,m},\n",
    "$$\n",
    "\n",
    "kjer sta $\\lambda_{1,2}$ lastni vrednosti sistema (v splošnem kompleksno število).\n"
   ]
  },
  {
   "cell_type": "markdown",
   "id": "ecf2717d-bb62-4b14-a58c-42536233784d",
   "metadata": {},
   "source": [
    "Glede na razmerje med vztrajnostno, elastično in dušilno silo je rešitev:\n",
    "\n",
    "* **nadkritično dušeno**: če sile dušenja prevladajo nad vztrajnostnimi in prožnostnimi sile ($c^2\\geq 4\\,k\\,m$),\n",
    "* **kritično dušeno**: če so sile dušenja enake vztrajnostnim in prožnostnim silam ($c^2=4\\,k\\,m$),\n",
    "* **podkritično dušeno**: če vztrajnostne in prožnostne sile prevladajo nad dušilnimi ($c^2\\leq 4\\,k\\,m$)."
   ]
  },
  {
   "cell_type": "markdown",
   "id": "4d08aaf9-3cb0-4d2d-9743-b47a7c569c85",
   "metadata": {},
   "source": [
    "V primeru nadkritično in kritično dušenega sistema je rešitev v realni obliki in gibanje ni oscilatorno.\n",
    "\n",
    "V okviru te knjige se  osredotočamo na podkritično dušen primer, ko so kompleksne lastne vrednosti konjugirani pari. Masa $m$, dušenje $c$ in togost $k$ pa definirajo nedušeno lastno krožno frekvenco (tudi resonančna frekvenca, lastna frekvenca):\n",
    "\n",
    "$$\n",
    "\\omega_0 = \\sqrt{\\frac{k}{m}}.\n",
    "$$\n",
    "\n",
    "Tukaj je pomembno omeniti, da pri linearnih sistemih prednapetje ne spremeni lastne frekvence."
   ]
  },
  {
   "cell_type": "markdown",
   "id": "ca56184c-ca0b-40ab-9b20-418850f652ce",
   "metadata": {},
   "source": [
    "Nadalje, če je kritično dušenje opredeljeno kot:\n",
    "\n",
    "$$\n",
    "c_{c} = 2\\,\\sqrt{k\\,m},\n",
    "$$\n",
    "\n",
    "potem je dušenje mogoče definirati s pomočjo razmernika dušenja:\n",
    "\n",
    "$$\n",
    "\\delta = \\frac{c}{c_{c}}.\n",
    "$$"
   ]
  },
  {
   "cell_type": "markdown",
   "id": "712f03fa-a15e-4855-a567-479e6903ba07",
   "metadata": {},
   "source": [
    "Z nezadušeno lastno frekvenco $\\omega_0$ in razmernika dušenja $\\delta$ lahko homogeno diferencialno enačbo prepišemo v standardno obliko:\n",
    "\n",
    "$$\n",
    "\\ddot{x}_{h}(t)+2\\,\\delta\\,\\omega_0\\,\\dot{x}_{h}(t)+\\omega_0^2\\,x_{h}(t) =0.\n",
    "$$\n",
    "\n",
    "Nadalje lahko $\\omega_0$ in $\\delta$ vstavite v izraz za lastne vrednosti:\n",
    "\n",
    "$$\n",
    "\\lambda_{1,2}=-\\delta\\, \\omega_0 \\pm \\mathrm{i}\\,\\omega_{d},\n",
    "$$\n",
    "\n",
    "kje se:\n",
    "\n",
    "$$\n",
    "\\omega_{d} = \\omega_0\\,\\sqrt{1-\\delta^2}\n",
    "$$\n",
    "\n",
    "imenuje dušena lastna krožna frekvenca."
   ]
  },
  {
   "cell_type": "markdown",
   "id": "31708920-abc7-46dd-a481-356e33acc362",
   "metadata": {},
   "source": [
    "Izpeljane lastne vrednosti vstavimo v nastavek za homogeno rešitev $x_{h}(t)$. Ker imamo dve lastni vrednosti, je splošna rešitev vsota obeh:\n",
    "\n",
    "$$\n",
    "\\begin{split}\n",
    "     x_{h}(t)&=X_{h,1}\\,e^{\\lambda_1 \\,t}+X_{h,2}\\,e^{\\lambda_2 \\,t}\\\\\n",
    "     &=e^{-\\delta\\, \\omega_0\\,t}\\,\n",
    "     \\big(\n",
    "     X_{h,1}\\,e^{+ \\mathrm{i}\\, \\omega_{d}\\,t}+X_{h,2}\\,e^{- \\mathrm{i}\\, \\omega_ {d} \\,t}\n",
    "     \\big),\n",
    "\\end{split}\n",
    "$$\n",
    "\n",
    "kjer sta konstanti $X_{h,1}$ in $X_{h,2}$ odvisni od začetnih pogojev."
   ]
  },
  {
   "cell_type": "markdown",
   "id": "df3cf5a9-5645-4720-b3f2-4fe22a54e7ee",
   "metadata": {},
   "source": [
    "Kasneje bo jasno, da so začetni pogoji, pri katerih sistem začne iz ravnotežja s hitrostjo različno od nič:\n",
    "\n",
    "$$\n",
    "\\begin{aligned}\n",
    "\t\tx(0)&=0\\to& X_{h,1}+X_{h,2}&=0\\\\\n",
    "\t\t\\dot x(0)&=\\dot x_0\\to& X_{h,1}\\,\\lambda_1+X_{h,2}\\,\\lambda_2&=\\dot x_0\n",
    "\t\\end{aligned}\n",
    "$$\n",
    "\n",
    "še posebej pomembne in vodijo v rešitev impulznega odziva.\n",
    "\n",
    "(sec:impulzna_odzivna_funkcija_d_x_0)=\n",
    "### Impulzna odzivna funkcija\n",
    "\n",
    ":::{note}\n",
    "\n",
    "Impulzna odzivna funkcija:\n",
    "\n",
    "$$\n",
    "x_{h}(t)=\\frac{\\dot x_0}{\\omega_{d}}\\,e^{-\\delta\\,\\omega_0\\,t}\\,\\sin(\\omega_{d}\\,t).\n",
    "$$\n",
    "\n",
    ":::\n",
    "\n",
    "Odziv je sestavljen iz ovojnice ${\\dot x_0}/{\\omega_{d}}\\,\\exp(-\\delta\\, \\omega_0\\,t)$, za katero je značilna stopnja razpada $\\delta\\, \\omega_0$ in nihajoči del $\\sin(\\omega_{d}\\,t)$, glejte sliko spodaj."
   ]
  },
  {
   "cell_type": "code",
   "execution_count": 85,
   "id": "a43351f9-a1e1-4d92-b37f-f79466c5abfd",
   "metadata": {
    "tags": [
     "hide-input"
    ]
   },
   "outputs": [
    {
     "data": {
      "image/png": "[encoded data removed]",
      "text/plain": [
       "<Figure size 432x288 with 1 Axes>"
      ]
     },
     "metadata": {
      "needs_background": "light"
     },
     "output_type": "display_data"
    }
   ],
   "source": [
    "import sympy as sym\n",
    "t, ω_0, ω_d, d_x_0, δ= sym.symbols('t, \\omega_0, \\omega_d, d_x_0, \\delta', real=True)\n",
    "podatki = {ω_0: 1, d_x_0: 1, δ: 0.1}\n",
    "\n",
    "ω_d = ω_0 * sym.sqrt(1-δ**2)\n",
    "\n",
    "ovojnica = d_x_0/ω_d * sym.exp(-δ*ω_0*t)\n",
    "\n",
    "x = ovojnica * sym.sin(ω_d*t)\n",
    "\n",
    "p1 = sym.plot(ovojnica.subs(podatki), (t,0,50), line_color='C0', xlabel='$t$ [s]', ylabel='$x_h(t)$', title='Časovna domena',\n",
    "             label='Ovojnica', show=False)\n",
    "p2 = sym.plot(x.subs(podatki), (t,0,50), line_color='C1', \n",
    "             label='$x_h(t)$', show=False)\n",
    "p1.extend(p2)\n",
    "p1.legend = True\n",
    "p1.show()"
   ]
  },
  {
   "cell_type": "markdown",
   "id": "e71b9384-8516-4fad-8afd-d2a65299da9a",
   "metadata": {},
   "source": [
    "## Harmonsko vzbujanje"
   ]
  },
  {
   "cell_type": "markdown",
   "id": "28c5ac0e-d3d0-4300-8f34-789269f68eaa",
   "metadata": {},
   "source": [
    "Nadaljujemo z rešitvijo gibalne enačbe za primer harmonskega vzbujanja:\n",
    "\n",
    "$$\n",
    "\tf(t)=F\\,e^{ \\mathrm{i}\\,\\omega\\,t}=F\\,\\underbrace{\\big(\\cos(\\omega\\,t)+ \\mathrm{i}\\,\\sin(\\omega\\,t)\\big)}_{e^{ \\mathrm{i}\\,\\omega\\,t}},\n",
    "$$\n",
    "\n",
    "kjer je $F$ amplituda sile (v splošnem kompleksna vrednost) in $\\omega$ krožna frekvenca vzbujanja. \n"
   ]
  },
  {
   "cell_type": "markdown",
   "id": "eca8a037-f4eb-4e69-98bb-efd2050b30bd",
   "metadata": {},
   "source": [
    "Partikulano rešitev $x_p(t)$ določimo iz enačbe:\n",
    "\n",
    "$$\n",
    "\tm\\,\\ddot{x}_{p}(t)+c\\,\\dot{x}_{p}(t)+k\\,x_{p}(t)=f(t),\n",
    "$$\n",
    "\n",
    "\n",
    "tako, da predpostavimo harmonski odziv:\n",
    "\n",
    "$$\n",
    "\tx_{p}(t)=X_{p}\\,\\,e^{ \\mathrm{i}\\,\\omega\\,t},\n",
    "$$\n",
    "\n",
    "kjer je $X_{p}$ neznana kompleksna amplituda partikularne komponente (včasih imenovana tudi fazor). Nadaljujemo z izpeljavo:\n",
    "\n",
    "$$\n",
    "\t-\\omega^2\\,m\\,X_{p}\\,e^{ \\mathrm{i}\\,\\omega\\,t}+ \\mathrm{i}\\,\\omega\\,c\\,X_{p}\\,e^{ \\mathrm{i}\\,\\omega\\,t}+k\\,X_{p}\\,\\,e^{ \\mathrm{i}\\,\\omega\\,t}=F\\,e^{ \\mathrm{i}\\,\\omega\\,t}.\n",
    "$$"
   ]
  },
  {
   "cell_type": "markdown",
   "id": "3aa19cee-10a8-4b8e-8628-3fcd12859013",
   "metadata": {},
   "source": [
    "Netrivialna rešitev zahteva $e^{ \\mathrm{i}\\,\\omega\\,t}\\neq 0$ in zato rešitev iščemo na podlagi enačbe:\n",
    "\n",
    "$$\n",
    "\t-\\omega^2\\,m\\,X_{p}+  \\mathrm{i}\\,\\omega\\,c\\,X_{p}+k\\,X_{p}=F,\n",
    "$$\n",
    "\n",
    "kar vodi v določitev razmerja med odzivom $X_p$ in vzbujanjem $F$:\n",
    "\n",
    "$$\n",
    "\t\\frac{X_{p}}{F}=\\frac{1}{-\\omega^2\\,m+ \\mathrm{i}\\,\\omega\\,c+k}.\n",
    "$$\n"
   ]
  },
  {
   "cell_type": "code",
   "execution_count": 53,
   "id": "988bbd5c-51d9-44d4-b02e-f969d0ee72d3",
   "metadata": {
    "tags": [
     "hide-input"
    ]
   },
   "outputs": [
    {
     "data": {
      "image/png": "[encoded data removed]",
      "text/plain": [
       "<Figure size 432x288 with 1 Axes>"
      ]
     },
     "metadata": {
      "needs_background": "light"
     },
     "output_type": "display_data"
    },
    {
     "data": {
      "image/png": "[encoded data removed]",
      "text/plain": [
       "<Figure size 432x288 with 1 Axes>"
      ]
     },
     "metadata": {
      "needs_background": "light"
     },
     "output_type": "display_data"
    }
   ],
   "source": [
    "import sympy as sym\n",
    "ω, m, c, k= sym.symbols('\\omega, m, c, k', real=True)\n",
    "i = sym.I\n",
    "\n",
    "α = 1/(-ω**2 * m + i*ω*c + k)\n",
    "podatki = {m: 1, c: 0.1, k: 1}\n",
    "podatki2 = {m: 1, c: 0.5, k: 1}\n",
    "\n",
    "p1 = sym.plot(sym.Abs(α.subs(podatki)), (ω,0,3), line_color='C0', xlabel='$\\omega$ [rad/s]', ylabel='$|\\\\alpha(\\\\omega)|$', \n",
    "             title=f'Amplituda frekvenčne prenosne funkcije ($\\\\omega_0=${sym.sqrt(k/m).evalf(subs=podatki):3.2f})',\n",
    "             label=f'$c=${c.subs(podatki):2.1f}', show=False)\n",
    "p2 = sym.plot(sym.Abs(α.subs(podatki2)), (ω,0,3), line_color='C1', \n",
    "             label=f'$c=${c.subs(podatki2):2.1f}', show=False)\n",
    "p1.extend(p2)\n",
    "p1.legend = True\n",
    "p1.show()\n",
    "\n",
    "p1 = sym.plot(sym.arg(α.subs(podatki)), (ω,0,3), line_color='C0', xlabel='$\\omega$ [rad/s]', ylabel='$\\\\angle\\\\alpha(\\\\omega)$', \n",
    "             title=f'Faza frekvenčne prenosne funkcije ($\\\\omega_0=${sym.sqrt(k/m).evalf(subs=podatki):3.2f})',\n",
    "             label=f'$c=${c.subs(podatki):2.1f}', show=False)\n",
    "p2 = sym.plot(sym.arg(α.subs(podatki2)), (ω,0,3), line_color='C1', \n",
    "             label=f'$c=${c.subs(podatki2):2.1f}', show=False)\n",
    "p1.extend(p2)\n",
    "p1.legend = True\n",
    "p1.show()\n"
   ]
  },
  {
   "cell_type": "markdown",
   "id": "f2fbd3e8-0ca4-46b5-bfbe-1d6c39e7daf6",
   "metadata": {},
   "source": [
    "Partikularna rešitev je torej:\n",
    "\n",
    "$$\n",
    "\tx_{p}(t)=\\frac{1}{-\\omega^2\\,m+ \\mathrm{i}\\,\\omega\\,c+k}\\,F%\n",
    "\t\\,e^{ \\mathrm{i}\\,\\omega\\,t}.\n",
    "$$"
   ]
  },
  {
   "cell_type": "markdown",
   "id": "228b1f80-9bb1-4a5f-b300-b950359bbdc6",
   "metadata": {},
   "source": [
    "## Prehodni odziv in odziv v stacionarnem stanju.\n",
    "\n",
    "Najprej smo določili homogeno rešitev $x_{h}(t)$, katera predstavlja prehodni odziv na neko začetno motnjo. Partikularna rešitev $x_{p}(t)$ predstavlja rešitev na stacionarno harmonsko motnjo. Rešitev v splošnem definira vsota obeh (slika spodaj).\n",
    "\n",
    "![sdof_homo_part_trans_steady](./images/sdof_homo_part_trans_steady.svg)"
   ]
  },
  {
   "cell_type": "markdown",
   "id": "e58910d4-b0fe-4174-a2b1-0981d7e0fcb4",
   "metadata": {},
   "source": [
    "(sec:frf)=\n",
    "## Frekvečna prenosna funkcija"
   ]
  },
  {
   "cell_type": "markdown",
   "id": "99843065-8708-41a0-9977-1472c46278fe",
   "metadata": {},
   "source": [
    "Najprej se bomo osredotočili zgolj na partikularno rešitev (vendar več ne bomo uporabljali podpisa $p$):\n",
    "\n",
    "$$\n",
    "\t\\frac{X}{F}=\\frac{1}{-\\omega^2\\,m+ \\mathrm{i}\\,\\omega\\,c+k}.\n",
    "$$\n",
    "\n",
    "Kot zgornji izraz predstavlja frekvenčni odziv, se imenuje **frekvenčna prenosna funkcija** (ang. Frequency Response Function, tudi FRF, glejte TBA za opis načina kako se FRF dobi iz homogene rešitve}:\n",
    "\n",
    ":::{note}\n",
    "Frekvenčna prenosna funkcija:\n",
    "\n",
    "$$\n",
    "\t\\alpha(\\omega)=\\frac{1}{-\\omega^2\\,m+ \\mathrm{i}\\,\\omega\\,c+k}.\n",
    "$$\n",
    "\n",
    ":::"
   ]
  },
  {
   "cell_type": "markdown",
   "id": "dedde513-20f3-47c4-acf1-e2ee45aae32e",
   "metadata": {},
   "source": [
    "Z uporabo nedušene laste krožne frekvence $\\omega_0^2=k/m$, razmernika dušenja $c=\\delta\\,2\\,\\sqrt{k\\,m}$ in relativne frekvence $r=\\frac{\\omega}{\\omega_0}$, dobimo frekvenčni odziv v standardni obliki:\n",
    "\n",
    "$$\n",
    "\t\\alpha(\\omega)=\\frac{1}{k}\\cdot\\frac{1}{1-r^2+2\\, \\mathrm{i}\\,\\delta\\,r}.\n",
    "$$\n",
    "\n",
    "\n",
    "$\\alpha(\\omega)$ se imenuje frekvenčna prenosna funkcija ali bolj natančno **dimenzijska frekvenčna prenosna funkcija** (ang. dimensional frequency response function). V nasprotju z $\\alpha(\\omega)$ je $H_0(\\omega)$ opredeljena kot:\n",
    "\n",
    "$$\n",
    "\t\\begin{split}\n",
    "\t\tH_0(\\omega)&=\\frac{X(\\omega)}{X_0}\n",
    "\t\\end{split}\n",
    "$$"
   ]
  },
  {
   "cell_type": "markdown",
   "id": "1fd36f36-5118-466e-a13b-c9f6ac758433",
   "metadata": {},
   "source": [
    "in se v nekaterih knjigah (npr.: {cite:t}`geradin2014mechanical`) imenovana **brezdimenzijska frekvenčna prenosna funkcija** (ang. nondimensional frequency response function). V izrazu zgoraj je statični poves $X_0$ zaradi statične sile $F$ definiran kot:\n",
    "\n",
    "$$\n",
    "\tX_0=\\frac{F}{k}.\n",
    "$$"
   ]
  },
  {
   "cell_type": "markdown",
   "id": "dbd00b0d-a68e-4891-9c86-85d3e2cc797e",
   "metadata": {},
   "source": [
    ":::{note}\n",
    "Harmonski odziv $X(\\omega)$ lahko z brezdimenzionalno frekvenčno prenosno funkcijo definiramo kot:\n",
    "\n",
    "$$\n",
    "\t\\begin{split}\n",
    "\t\tH_0(\\omega)&=\\frac{X(\\omega)}{X_0}\\\\\n",
    "\t\t&=\\frac{k}{-\\omega^2\\,m+ \\mathrm{i}\\,\\omega\\,c+k}\\\\\n",
    "\t\t&=\\frac{1}{1-r^2+ \\mathrm{i}\\,2\\,\\delta\\,r},\n",
    "\t\\end{split}\n",
    "$$\n",
    ":::\n",
    "\n",
    "Oziroma:\n",
    "\n",
    "$$\n",
    "\t\\alpha(\\omega)=\\frac{H_0(\\omega)}{k}.\n",
    "$$"
   ]
  },
  {
   "cell_type": "markdown",
   "id": "f599fc01-8b98-4890-a805-3707b188b2a0",
   "metadata": {},
   "source": [
    "S FRF je mogoče odziv stacionarnega stanja pri harmonskem vzbujanju s $\\omega_f$ opisati z:\n",
    "\n",
    "$$\n",
    "x(t)=\\alpha(\\omega=\\omega_f)\\,F\\,e^{ \\mathrm{i}\\,\\omega_f\\,t}.\n",
    "$$"
   ]
  },
  {
   "cell_type": "markdown",
   "id": "d98bb79b-8a2d-4ac6-992b-2bd591fac3a4",
   "metadata": {},
   "source": [
    "### Različne oblike FRF\n",
    "\n",
    "Dimenzijski FRF je smiseln, saj je statični odklon $X_0$ težko izmeriti in se pogosto merita vzbujevalna sila in odzivni pospešek. Namesto pospeška pogosto merimo še hitrost in premik). Posledično obstajajo različne oblike frekvenčne prenosne funkcije:\n",
    "\n",
    ":::{note}\n",
    "\n",
    "$$\n",
    "\t\\begin{aligned}\n",
    "\t\t\\alpha(\\omega)&=\\frac{X(\\omega)}{F(\\omega)},&&\\textrm{podajnost ali receptanca (ang. receptance),}\\\\\n",
    "\t\tY(\\omega)&=\\frac{\\dot X(\\omega)}{F(\\omega)}= \\mathrm{i}\\,\\omega\\,\\alpha(\\omega),&&\\textrm{pomičnost (ang. mobility),}\\\\\n",
    "\t\tA(\\omega)&=\\frac{\\ddot X(\\omega)}{F(\\omega)}=-\\omega^2\\,\\alpha(\\omega),&&\\textrm{pospešenost (ang. accelerance),}\\\\\n",
    "\t\\end{aligned}\n",
    "$$\n",
    ":::\n",
    "\n",
    "kjer $\\dot X(\\omega)$ in $\\ddot X(\\omega)$ označujejo kompleksni amplitudi hitrosti ali pospeška v frekvenčni domeni. Odziv različih oblik FRF je prikazan na sliki spodaj:\n",
    "\n",
    "* podajnost: podresonančno konvergira k statičnemu inverzu togosti $1/k$, nadresonančno pa kvadratično konvergira proti nič,\n",
    "* pomičnost: podresonančno linearno konvergira k nič, nadresonančno linearno konvergira proti nič,\n",
    "* pospešenost: podresonančno kvadratično konvergira proti nič, nadresonančno konvergira k inverzu mase $1/m$.\n"
   ]
  },
  {
   "cell_type": "code",
   "execution_count": 84,
   "id": "5dbb26c9-5772-47e9-b373-088345ce3d6a",
   "metadata": {
    "tags": [
     "hide-input"
    ]
   },
   "outputs": [
    {
     "data": {
      "image/png": "[encoded data removed]",
      "text/plain": [
       "<Figure size 432x288 with 1 Axes>"
      ]
     },
     "metadata": {
      "needs_background": "light"
     },
     "output_type": "display_data"
    }
   ],
   "source": [
    "import sympy as sym\n",
    "ω, m, c, k= sym.symbols('\\omega, m, c, k', real=True)\n",
    "i = sym.I\n",
    "\n",
    "α = 1/(-ω**2 * m + i*ω*c + k)\n",
    "podatki = {m: 1, c: 0.1, k: 1}\n",
    "\n",
    "p1 = sym.plot(sym.Abs(α.subs(podatki)), (ω,0.01,100), line_color='C0', xlabel='$\\omega$ [rad/s]', ylabel='',  \n",
    "             title=f'Amplituda frekvenčne prenosne funkcije ($\\\\omega_0=${sym.sqrt(k/m).evalf(subs=podatki):3.2f})',\n",
    "             label='$|\\\\alpha(\\\\omega)|$ - podajnost', xscale='log', yscale='log', show=False)\n",
    "p2 = sym.plot(sym.Abs(i*ω*α.subs(podatki)), (ω,0.01,100), line_color='C1', \n",
    "             label='$|Y(\\\\omega)|$ - pomičnost', xscale='log', yscale='log', show=False)\n",
    "p3 = sym.plot(sym.Abs(-ω**2*α.subs(podatki)), (ω,0.01,100), line_color='C2', \n",
    "             label='$|A(\\\\omega)|$ - pospešenost', xscale='log', yscale='log', show=False)\n",
    "p1.extend(p2)\n",
    "p1.extend(p3)\n",
    "p1.legend = True\n",
    "p1.show()"
   ]
  },
  {
   "cell_type": "markdown",
   "id": "034f55ce-c940-45ae-987a-85cd023a4b2a",
   "metadata": {},
   "source": [
    "\n",
    ":::{note}\n",
    "\n",
    "Inverzna vrednost pospešenosti je **dinamična masa** ($F/\\ddot{X}$), inverzna vrednost pomičnosti je **mehanska impedanca** ($ F/\\dot{X}$) in inverzna vrednost podajnosti je **dinamična togost** ($F/X$).\n",
    "\n",
    ":::"
   ]
  },
  {
   "cell_type": "markdown",
   "id": "9d6a3c2b-a32b-4995-adf4-3f35db7f74a8",
   "metadata": {
    "tags": []
   },
   "source": [
    "(sec:LTI_lastnosti)=\n",
    "## Lastnosti linearnega časovno invariantnega sistema\n",
    "\n",
    "Diferencialna enačba za sistem z eno prostostno stopnjo lahko razmemo kot sistem, ki poveže vzbujanje (input) z odzivom  (output):\n",
    "\n",
    "$$\n",
    "\t\\underbrace{f(t)}_{\\textrm{Vzbujanje}}\\to {\\textrm{Sistem}}\\to \\underbrace{x(t)}_{\\textrm{Odziv}}.\n",
    "$$"
   ]
  },
  {
   "cell_type": "markdown",
   "id": "38a2653e-cfb1-4c70-8013-3c9b7a8c2c33",
   "metadata": {},
   "source": [
    "Sistem je **linearen**, če ima lastnosti **aditivnosti**:\n",
    "\n",
    "$$\n",
    "f_1(t)+f_2(t)  \\to  {\\textrm{Linearen sistem}} \\to   x_1(t)+x_2(t)\n",
    "$$\n",
    "\n",
    "in **skalirnosti** (tudi *homogenost*):\n",
    "\n",
    "$$\n",
    "a\\,f(t)  \\to  {\\textrm{Linearen sistem}} \\to   a\\,x(t) \n",
    "$$"
   ]
  },
  {
   "cell_type": "markdown",
   "id": "be8b410e-786e-4854-8dc7-23aa5118d7ff",
   "metadata": {},
   "source": [
    "Če je sistem linearen, lahko uporabimo načelo **superpozicije**:\n",
    "\n",
    "$$\n",
    "\t\t   a_1\\,f_1(t)+a_2\\,f_2(t)   \\to   {\\textrm{Linearen sistem}}  \\to    a_1\\,x_1(t)+a_2\\,x_2(t) \n",
    "$$"
   ]
  },
  {
   "cell_type": "markdown",
   "id": "bcbb8919-51bc-4830-b6bd-ad2c9812c60a",
   "metadata": {},
   "source": [
    "Še ena pomembna lastnost je časovna **invariantnost**:\n",
    "\n",
    "$$\n",
    "  f(t-t_0)   \\to   {\\textrm{Časovno invarianten sistem}}  \\to    x(t-t_0) \n",
    "$$\n",
    "\n"
   ]
  },
  {
   "cell_type": "markdown",
   "id": "41d176bc-4b24-46e0-b565-0c811962303e",
   "metadata": {},
   "source": [
    "## Odziv na periodično vzbujanje"
   ]
  },
  {
   "cell_type": "markdown",
   "id": "019eb8a7-cc64-48e3-96d2-dabd0db83df2",
   "metadata": {},
   "source": [
    "### Zapis vzbujanja s Fourierovimi vrstami\n",
    "\n",
    "Glede {ref}`sec:FV_exp` lahko periodično vzbujanje $f(t)$ zapišemo kot:\n",
    "\n",
    "$$\n",
    "\tf(t) = \\sum_{n=-\\infty}^{+\\infty} c_n\\,e^{ \\mathrm{i}\\,n\\,\\omega_{p}\\,t},\n",
    "$$\n",
    "\n",
    "kjer je $\\omega_{p}$ osnovna krožna frekvenca periodičnega vzbujanja:\n",
    "\n",
    "$$\n",
    "\t\\omega_{p} = \\frac{2\\,\\pi}{T}.\n",
    "$$\n",
    "\n",
    "in so Fourierovi  (kompleksni) koeficienti $c_n$ za $n\\in \\mathbb{Z}$ definirani kot:\n",
    "\n",
    "$$\n",
    "\tc_n = \\frac{1}{T}\\,\\int_{\\tau}^{\\tau+T}f(t)\\,e^{- \\mathrm{i}\\,n\\,\\omega_{p}\\,t}\\,\\textrm{d} t,\n",
    "$$\n",
    "\n",
    "kjer je $c_0$ povprečna vrednost $f(t)$. Velja tudi $c_{-n}=c_n^*$, kjer ${}^*$ označuje kompleksno konjugacijo.\n",
    "\n",
    ":::{note}\n",
    "\n",
    "Ker velja princip superpozicije, lahko vzbujanje razstavimo na poljubno komponent; tukaj vzbujanje razstavimo na posamezne člene Fourierove vrste; Fourierov koeficient $c_n$ tako definira eno harmonsko komponento.\n",
    "\n",
    ":::"
   ]
  },
  {
   "cell_type": "markdown",
   "id": "16f7607f-4e99-42a6-9e5c-131890f35b17",
   "metadata": {},
   "source": [
    "### Zapis odziva s pomočjo Fourierovih vrst\n",
    "\n",
    "Tukaj nadaljujemo izračunom rešitve za vsako harmonsko komponento vzbujanja posebej (glejte {ref}`sec:frf`)\n",
    "\n",
    "$$\n",
    "\t\\begin{split}\n",
    "\t\tX_n&=X_{0,n}\\,H_0(\\omega_{p}\\,n)\\\\\n",
    "\t\t&=\\frac{c_n}{k}\\,H_0(\\omega_{p}\\,n)\\\\\n",
    "\t\t&=c_n\\,\\alpha(\\omega_{p}\\,n),\n",
    "\t\\end{split}\n",
    "$$\n",
    "\n",
    "kjer je $c_n$ definiran zgoraj pri periodičnem vzbujanju s silo."
   ]
  },
  {
   "cell_type": "markdown",
   "id": "e78345c1-4100-4a6c-900d-4a02a78ce714",
   "metadata": {},
   "source": [
    "Ko imamo enkrat $X_n$ določen, lahko izračunamo odziv te harmonske komponente v času:\n",
    "\n",
    "$$\n",
    "\tx_n(t)=X_n\\,\\,e^{ \\mathrm{i}\\,n\\,\\omega_{p}\\,t}\n",
    "$$\n"
   ]
  },
  {
   "cell_type": "markdown",
   "id": "e4a55078-6bad-4465-90a3-38563ce5c633",
   "metadata": {},
   "source": [
    "in se vrnemo k principu superpozicije ter odzive seštejemo:\n",
    "\n",
    "$$\n",
    "\tx(t) = \\sum_{n=-\\infty}^{+\\infty} x_n(t).\n",
    "$$\n"
   ]
  },
  {
   "cell_type": "markdown",
   "id": "8004d3f9-84d2-4879-b118-30d65a0517b7",
   "metadata": {},
   "source": [
    "## Posplošitev periodičnega vzbujanja na poljubno vzbujanje"
   ]
  },
  {
   "cell_type": "markdown",
   "id": "cf939718-d017-4e43-8336-6b7d4689b7a5",
   "metadata": {},
   "source": [
    "Fourierova transformacija predstavlja posplošitev Fourierovih vrst tudi na neperiodične podatke. Izpeljave, ki smo jih s pomočjo Fourierovih vrst naredili za periodično vzbujanje, lahko tako posplošimo.\n",
    "\n",
    ":::{note}\n",
    "\n",
    "Fourierova transformacija vzbujanja za prehod v frekvenčno domeno:\n",
    "\n",
    "$$\n",
    "\tF(\\omega)=\\mathcal{F}\\{f(t)\\}\n",
    "$$\n",
    "\n",
    "vzbujanje razstavi na harmonske komponente $F(\\omega)$, ki jih nato rešimo po posameznih krožnih frekvencah $\\omega$:\n",
    "\n",
    "$$\n",
    "\tX(\\omega)=\\alpha(\\omega)\\,F(\\omega)\n",
    "$$\n",
    "\n",
    "in nato naredimo spet nazaj prehod v časovno domeno:\n",
    "\n",
    "$$\n",
    "\tx(t)=\\mathcal{F}^{-1}\\{X(\\omega)\\}.\n",
    "$$\n",
    "\n",
    ":::"
   ]
  },
  {
   "cell_type": "markdown",
   "id": "28972693-e94c-4b3d-996a-593c910a7a5e",
   "metadata": {},
   "source": [
    "## Vzbujanje z enotskim impulzom\n",
    "\n",
    "Obravnavajmo sedaj vzbujanje enomasnega sistema z enostkim impulzom $f_1(t)=\\delta(t-\\tau)$, kjer je $\\delta(t)$ Diracova delta funkcija (glejte: {ref}`sec:dirac_cas`):\n",
    "\n",
    "$$\n",
    "\t\\Delta I_1=\\lim_{\\Delta \\tau\\to 0}\\int_{\\tau}^{\\tau+\\Delta \\tau}f_1(t)\\,\\textrm{d}t =1.\n",
    "$$\n",
    "\n",
    "Enomasni sistem je ob času $\\tau^-$ v mirovanju, infinitezimalni čas pozneje $\\tau^+$  pa ima zaradi enotskega impulza $\\Delta I_1$ hitrost:\n",
    "\n",
    "$$\n",
    "\t\\dot x_0 = \\frac{\\Delta I_1}{m}= \\frac{1}{m}.\n",
    "$$"
   ]
  },
  {
   "cell_type": "markdown",
   "id": "2f210e40-0020-4104-ad64-913d8d24bb55",
   "metadata": {},
   "source": [
    "Po enotskem impulzu $t\\ge \\tau$ je sila $f_1(t)$ nič in sistem se odziva glede na homogeno rešitev pri ničelnem začetnem premiku $x=0$ in $\\dot x=\\dot x_0$ (glejte {ref}`sec:impulzna_odzivna_funkcija_d_x_0`):\n",
    "\n",
    "$$\n",
    "\th(t-\\tau)=x(t)=\\frac{1}{m\\,\\omega_{d}}\\,e^{-\\zeta\\,\\omega_0\\,(t-\\tau)}\\,\\sin(\\omega_{d}\\,(t-\\tau)),\\quad \\textrm{for: } t>\\tau,\n",
    "$$\n",
    "\n",
    "kjer je $h(t-\\tau)$ **impulzna prenosna funkcija**.\n",
    "\n",
    "Odziv na enotski impult **vzročnega sistema** (tudi **kavzalni sistem**) je odvisen samo od preteklega (in trenutnega) vzbujanja, ne pa od prihodnjega. Vsi sistemi v tej knjigi veljajo za vzročne."
   ]
  },
  {
   "cell_type": "markdown",
   "id": "8fab748e-ebb0-41b4-9968-8c72805bc7d1",
   "metadata": {},
   "source": [
    "## Posplošitev enotskega vzbujanja na poljubno vzbujanje\n",
    "\n",
    "Splošno vzbujevalno silo (slika spodaj) lahko vidimo kot superpozicijo enotskih impulzov pomnoženih z določeno konstanto.\n",
    "\n",
    "![general_forcing](./images/general_forcing.svg)\n",
    "\n",
    "Vsak neskončno kratek impulz bi povzročil odziv glede na impulzno prenosno funkcijo $h(t-\\tau)$ pomnožen z amplitudo impulza $f(\\tau)\\,\\Delta\\tau$. Za linearne sisteme take odizve po principu superpozicioniran seštejemo:\n",
    "\n",
    "$$\n",
    "\tx(t) = \\sum_{\\tau}f(\\tau)\\,h(t-\\tau)\\,\\Delta \\tau,\\quad \\textrm{za: } t>\\tau,\n",
    "$$\n",
    "\n",
    "zaradi infinitezimalno majhnih časovnih korakov $\\Delta \\tau\\to0$ vsota preide v integral:\n",
    "\n",
    "$$\n",
    "\tx(t) = \\int_0^t\\,f(\\tau)\\,h(t-\\tau)\\,\\textrm{d} \\tau,\\quad \\textrm{za: } t>\\tau.\n",
    "$$\n"
   ]
  },
  {
   "cell_type": "markdown",
   "id": "27826159-f19d-403e-8782-f7989e965223",
   "metadata": {},
   "source": [
    "Kjer zgornji izraz imenujemo **konvolucijski integral** ali konvolucija (kdaj tudi **Duhamelov integral**.\n",
    "\n",
    "Ker je impulzna prenosna funkcija $h(t-\\tau)=0$ za $t<\\tau$, se lahko spodnja meja integrala razširi v $-\\infty$:\n",
    "\n",
    "$$\n",
    "\tx(t) = \\int_{-\\infty}^t\\,f(\\tau)\\,h(t-\\tau)\\,\\textrm{d}  \\tau,\\quad \\textrm{za: } t>\\tau.\n",
    "$$\n"
   ]
  },
  {
   "cell_type": "markdown",
   "id": "87f4df74-b566-4e3b-8bb9-c994304b684b",
   "metadata": {},
   "source": [
    "Nadalje, če spremenimo spremenljivko integracije v $\\tau_1=t-\\tau$ (posledično velja: $\\textrm{d} \\tau_1=-\\textrm{d} \\tau$), se meje integracije spremenijo v: $-\\infty\\to+ \\infty$ in $t\\to 0$:\n",
    "\n",
    "$$\n",
    "\tx(t) = -\\int_{+\\infty}^0\\,f(t-\\tau_1)\\,h(\\tau_1)\\,\\textrm{d}  \\tau_1 = \\int_0^{+\\infty}\\,f(t-\\tau_1)\\,h(\\tau_1)\\,\\textrm{d}  \\tau_1,\n",
    "$$\n",
    "\n",
    "Sledi, da lahko povzamemo lastnost **komutativnost konvolucije**:\n",
    "\n",
    "$$\n",
    "\tx(t) = \\int_{-\\infty}^{t}\\,f(\\tau)\\,h(t-\\tau)\\,\\textrm{d}  \\tau =\n",
    "\t\\int_{0}^{+\\infty}\\,h(\\tau)\\,f(t-\\tau)\\,\\textrm{d}  \\tau,\n",
    "$$\n",
    "\n",
    "ali v kratki obliki:\n",
    "\n",
    "$$\n",
    "\tx(t) = f(t) * h(t)= h(t)*f(t),\n",
    "$$\n",
    "\n",
    "kjer $*$ označuje konvolucijo. Primer (spodaj) prikazuje vzbujanja s koračno funkcijo višine $A$ in dolžine $B$."
   ]
  },
  {
   "cell_type": "code",
   "execution_count": 4,
   "id": "6ad5d318-4c54-4cb8-91aa-56b27f139a8d",
   "metadata": {
    "tags": [
     "hide-input"
    ]
   },
   "outputs": [
    {
     "data": {
      "image/png": "[encoded data removed]",
      "text/plain": [
       "<Figure size 432x288 with 1 Axes>"
      ]
     },
     "metadata": {
      "needs_background": "light"
     },
     "output_type": "display_data"
    }
   ],
   "source": [
    "import sympy as sym\n",
    "t, ω_0, ω_d, d_x_0, δ, A, B, τ = sym.symbols('t, \\omega_0, \\omega_d, d_x_0, \\delta, A, B, \\\\tau', real=True)\n",
    "π = sym.pi\n",
    "podatki = {ω_0: 1, d_x_0: 1, δ: 0.1, A: 2., B: 10.}\n",
    "\n",
    "ω_d = ω_0 * sym.sqrt(1-δ**2)\n",
    "ovojnica = d_x_0/ω_d * sym.exp(-δ*ω_0*t)\n",
    "h = ovojnica * sym.sin(ω_d*t)*sym.Heaviside(t)\n",
    "\n",
    "f = A*(sym.Heaviside(t)-sym.Heaviside(t-B))\n",
    "\n",
    "fh = (f.subs(t, τ)*h.subs(t, t-τ)).subs(podatki)\n",
    "fh = sym.integrate(fh, (τ, 0, t))\n",
    "\n",
    "p1 = sym.plot(h.subs(podatki), (t,-5,50), line_color='C0', xlabel='$t$ [s]', ylabel='', title='Časovna domena',\n",
    "             label='$h(t)$', show=False)\n",
    "p2 = sym.plot(f.subs(podatki), (t,-5,50), line_color='C1', \n",
    "             label=f'$f(t)$, $A$={A.subs(podatki):3.1f}, $B$={B.subs(podatki):3.1f}', show=False)\n",
    "p3 = sym.plot(fh, (t,-5,50), line_color='C2', \n",
    "             label='$f(t)*h(t)$', show=False)\n",
    "p1.extend(p2)\n",
    "p1.extend(p3)\n",
    "p1.legend = True\n",
    "p1.show()"
   ]
  },
  {
   "cell_type": "markdown",
   "id": "88ba4049-8769-42a6-82e9-2f43deca11c9",
   "metadata": {},
   "source": [
    ":::{note}\n",
    "\n",
    "Opomba: če je sistem **ne-vzročen** in je odziv odvisen tudi od prihodnjega vzbujanja vnosa, se meje integracije razširijo in komutativna lastnost konvolucije je:\n",
    "\n",
    "$$\n",
    "\tx(t) = \\int_{-\\infty}^{+\\infty}\\,f(t-\\tau)\\,h(\\tau)\\,\\textrm{d}  \\tau =\n",
    "\t\\int_{-\\infty}^{+\\infty}\\,f(\\tau)\\,h(t-\\tau)\\,\\textrm{d}  \\tau.\n",
    "$$\n",
    "\n",
    ":::"
   ]
  },
  {
   "cell_type": "markdown",
   "id": "9c93f094-b559-4e37-9606-04237571c4c9",
   "metadata": {},
   "source": [
    "## Povezava med frekvenčno in impulzno prenosno funkcijo\n",
    "\n",
    "V prejšnjih poglavjih sta bili predstavljeni frekvenčna prenosna funkcija $\\alpha(\\omega)$ in impulzna prenosna funkcija $h(t)$; prva je definirana v frekvenčni, druga v časovni domeni. V tem poglavju bomo dokazali, da $h(t)$ in $\\alpha(\\omega)$ tvorita par Fourierove transformacije.\n",
    "\n",
    "\n",
    "Fourierjeva transformacija enotskega impulza $f_1(t)=\\delta(t)$:\n",
    "\n",
    "$$\n",
    "\tF_1(\\omega)=\\mathcal{F}\\{f_1(t)\\}\n",
    "\t=\\int_{-\\infty}^{\\infty}f_1(t)\\,e^{- \\mathrm{i}\\,\\omega\\,t}\\,\\textrm{d} t =1\n",
    "$$\n",
    "\n",
    "in posledično enotni impulz vzbuja vse frekvence enako."
   ]
  },
  {
   "cell_type": "markdown",
   "id": "93c95507-88b1-49be-9d2e-cd59d1596400",
   "metadata": {},
   "source": [
    "Enotski impulz prek frekvenčne prenosne funkcije $\\alpha(\\omega)$ vodi v ozdiv $X_1(\\omega)$:\n",
    "\n",
    "$$\n",
    "\tX_1(\\omega)=\\alpha(\\omega)\\,\\underbrace{F_1(\\omega)}_{=1}=\\alpha(\\omega).\n",
    "$$\n",
    "\n",
    "Da naredimo prehod v časovno domeno, uporabimo inverzno Fourierovo transformacijo:\n",
    "\n",
    "$$\n",
    "\t\\begin{split}\n",
    "\t\tx_1(t)&=\\mathcal{F}^{-1}\\{X_1(\\omega)\\}\\\\\n",
    "\t\t&=\\mathcal{F}^{-1}\\{\\alpha(\\omega)\\}.\n",
    "\t\\end{split}\n",
    "$$\n"
   ]
  },
  {
   "cell_type": "markdown",
   "id": "872426ac-6c38-451b-b7e9-969830862dda",
   "metadata": {},
   "source": [
    "Po drugi strani pa je odziv $x_1(t)$ na enotski impulz definiran tudi z impulzno prenosno funkcijo $x_1(t)=h(t)$, sledi:\n",
    "\n",
    ":::{note}\n",
    "\n",
    "Impulzna prenosna funkcija in frekvenčna prenosna funkcija sta **Fourierov par**:\n",
    "\n",
    "$$\n",
    "\th(t)=\\mathcal{F}^{-1}\\{\\alpha(\\omega)\\}\\qquad\\textrm{ali}\\qquad%\n",
    "\t\\alpha(\\omega)=\\mathcal{F}\\{h(t)\\}.\n",
    "$$\n",
    "\n",
    ":::\n",
    "\n",
    "Opomba: Fourierov par označuje označuje dve spremenljivki, ena v časovni, druga v frekvenčni domeni, ki sta povezani prek Fourierove transformacije."
   ]
  }
 ],
 "metadata": {
  "kernelspec": {
   "display_name": "Python 3 (ipykernel)",
   "language": "python",
   "name": "python3"
  },
  "language_info": {
   "codemirror_mode": {
    "name": "ipython",
    "version": 3
   },
   "file_extension": ".py",
   "mimetype": "text/x-python",
   "name": "python",
   "nbconvert_exporter": "python",
   "pygments_lexer": "ipython3",
   "version": "3.10.6"
  },
  "toc-autonumbering": true,
  "toc-showcode": false,
  "toc-showmarkdowntxt": false,
  "toc-showtags": true
 },
 "nbformat": 4,
 "nbformat_minor": 5
}
