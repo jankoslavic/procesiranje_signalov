{
 "cells": [
  {
   "cell_type": "markdown",
   "id": "5e6eb3da",
   "metadata": {},
   "source": [
    "# Odziv linearnih sistemov na naključno vzbujanje"
   ]
  },
  {
   "cell_type": "markdown",
   "id": "abed2e42-cd74-4352-8429-ac9eb5a68bb4",
   "metadata": {},
   "source": [
    "Vrnimo se k linearnemu sistemu z eno prostostno stopnjo (glejte lastnosti: {ref}`sec:LTI_lastnosti`):\n",
    "\n",
    "$$\n",
    "\t\\underbrace{f(t)}_{\\textrm{Vzbujanje}}\\to {\\textrm{Sistem}}\\to \\underbrace{x(t)}_{\\textrm{Odziv}}.\n",
    "$$\n",
    "\n",
    "Odziv na deterministično vzbujanje izračunamo s pomočjo konvolucije:\n",
    "\n",
    "$$\n",
    "\tx(t) = \\int_{-\\infty}^{t}\\,f(\\tau)\\,h(t-\\tau)\\,\\textrm{d}  \\tau =\n",
    "\t\\int_{0}^{+\\infty}\\,h(\\tau)\\,f(t-\\tau)\\,\\textrm{d}  \\tau,\n",
    "$$\n",
    "\n",
    "kjer je $h(t)$ impulzna prenosna funkcija, ki definira linearni sistem."
   ]
  },
  {
   "cell_type": "markdown",
   "id": "1a3179a1-5b59-4204-8408-af87aa7c6cf2",
   "metadata": {},
   "source": [
    "## Srednja vrednost odziva\n",
    "\n",
    "V nadaljevanju bomo predpostavili, da je vzbujanje $f(t)$ naključno in izračunajmo najprej pričakovano srednjo vrednost odziva. Uporabiti moramo operator pričakovanja $E[]$:\n",
    "\n",
    "$$\n",
    "\t\\mu_x = E[x(t)] = E\\Big[\n",
    "\t\\int_{0}^{+\\infty}\\,h(\\tau)\\,f(t-\\tau)\\,\\textrm{d}  \\tau \\Big],\n",
    "$$\n",
    "\n",
    "ker je naključna vrednost samo pri vzbujanju $f(t)$, sledi\n",
    "\n",
    "$$\n",
    "\t\\mu_x = \n",
    "\t\\int_{0}^{+\\infty}\\,h(\\tau)\\,E\\big[f(t-\\tau)\\big]\\,\\textrm{d}  \\tau\n",
    "    = \n",
    "\t\\int_{0}^{+\\infty}\\,h(\\tau)\\,\\mu_f\\,\\textrm{d}  \\tau ,\n",
    "    = \n",
    "\t\\mu_f\\,\\int_{0}^{+\\infty}\\,h(\\tau)\\,\\textrm{d}  \\tau ,\n",
    "$$\n",
    "Od tukaj pa sledi sklep:\n",
    "\n",
    ":::{note}\n",
    "\n",
    "Če opazujemo proces, ki ima na vhodu/vzbujanju srednjo vrednost enako nič, bo tudi srednja vrednost odziva enaka nič (ne glede na impulzno prenosno funkcijo):\n",
    "\n",
    "$$\n",
    "\\mu_x = \\mu_f\\,\\int_{0}^{+\\infty}\\,h(\\tau)\\,\\textrm{d}  \\tau ,\n",
    "$$\n",
    "\n",
    ":::"
   ]
  },
  {
   "cell_type": "markdown",
   "id": "0b834876-5926-4681-a749-2541d1714c6e",
   "metadata": {},
   "source": [
    "## Avtokorelacija\n",
    "\n",
    "Tukaj želimo odgovoriti na vprašanje kako je avtokorelacija vzbujanja $R_{ff}(\\tau)$ povezana z avtokorelacijo odziva $R_{xx}(\\tau)$, poglejmo detajle:\n",
    "\n",
    "$$\n",
    "\\begin{split}\n",
    "R_{xx}(\\tau)&=E\\big[x(t)\\,x(t+\\tau)\\big]\\\\\n",
    "&=E\\Big[\\int_{0}^{+\\infty}\\int_{0}^{+\\infty}\\,h(\\tau_1)\\,f(t-\\tau_1)\\,\\,h(\\tau_2)\\,f(t+\\tau-\\tau_2)\\,\\textrm{d}  \\tau_1\\,\\textrm{d}  \\tau_2\\Big]\n",
    "\\end{split}\n",
    "$$\n",
    "\n",
    "Nadaljujemo z izpeljavo ($h(t)$ nima pričakovanja, velja $h(t)=E[h(t)]$):\n",
    "\n",
    "$$\n",
    "R_{xx}(\\tau)\n",
    "=\\int_{0}^{+\\infty}\\int_{0}^{+\\infty}\\,h(\\tau_1)\\,h(\\tau_2)\\,E\\Big[f(t-\\tau_1)\\,f(t+\\tau-\\tau_2)\\big]\\,\\textrm{d}  \\tau_1\\,\\textrm{d}  \\tau_2\n",
    "$$\n",
    "\n",
    "Uporabimo zamenjavo $t_1=t-\\tau_1$ iz česar sledi $E\\Big[f(t-\\tau_1)\\,f(t+\\tau-\\tau_2)\\big]=E\\Big[f(t_1)\\,f(t_1+\\tau_1+\\tau-\\tau_2)\\big]=R_{ff}(\\tau+\\tau_1-\\tau_2)$ in nato:\n",
    "\n",
    "$$\n",
    "R_{xx}(\\tau)\n",
    "=\\int_{0}^{+\\infty}\\int_{0}^{+\\infty}\\,h(\\tau_1)\\,h(\\tau_2)\\,R_{ff}(\\tau+\\tau_1-\\tau_2)\\,\\textrm{d}  \\tau_1\\,\\textrm{d}  \\tau_2\n",
    "$$"
   ]
  },
  {
   "cell_type": "markdown",
   "id": "9375d15a-17b3-412a-8461-8412ef0570ea",
   "metadata": {},
   "source": [
    "Naredimo sedaj prehod v frekvenčno domeno:\n",
    "\n",
    "$$\n",
    "\\begin{split}\n",
    "S_{xx} &= \\int_{-\\infty}^{+\\infty}R_{xx}(\\tau)\\,e^{-\\textrm{i}\\,2\\pi\\,f\\,\\tau}\\,\\textrm{d}\\tau\\\\\n",
    "&=\n",
    "\\underbrace{\\int_{0}^{+\\infty}\\,h(\\tau_1)\\,e^{+\\textrm{i}\\,2\\pi\\,f\\,\\tau_1}\\,\\textrm{d}  \\tau_1}_{H^*(f)}\\,\n",
    "\\underbrace{\\int_{0}^{+\\infty}\\,h(\\tau_2)\\,e^{-\\textrm{i}\\,2\\pi\\,f\\,\\tau_2}\\,\\textrm{d}  \\tau_2}_{H(f)}\\,\n",
    "\\underbrace{\\int_{-\\infty}^{+\\infty}R_{ff}(u)\\,e^{-\\textrm{i}\\,2\\pi\\,f\\,u}\\,\\textrm{d}  u}_{S_{ff}(f)}.\n",
    "\\end{split}\n",
    "$$\n",
    "\n",
    "Opomba: v zgornjem izrazu smo uporabili zamenjavo: $u=\\tau+\\tau_1-\\tau_2$ in posledično $e^{-\\textrm{i}\\,2\\pi\\,f\\,\\tau}=e^{-\\textrm{i}\\,2\\pi\\,f\\,(u-\\tau_1+\\tau_2)}$ ter nato ločili integracijske spremenljivke.\n",
    "\n",
    "Končni rezultat je:\n",
    "\n",
    ":::{note}\n",
    "\n",
    "Avto-spektralna gostota moči na odzivni strani je definirana kot:\n",
    "\n",
    "$$\n",
    "S_{xx} = H^*(f)\\,H(f)\\,S_{ff}(f),\n",
    "$$\n",
    "\n",
    "kjer ${}^*$ označuje kompleksno konjugirano vrednost.\n",
    "\n",
    ":::"
   ]
  },
  {
   "cell_type": "markdown",
   "id": "5302dfb9-3751-40fb-8765-b8f3fe8f52b6",
   "metadata": {},
   "source": [
    "## Križna korelacija\n",
    "\n",
    "Poglejmo si sedaj še križno korelacijo vzbujanja $R_{fx}(\\tau)$:\n",
    "\n",
    "$$\n",
    "\\begin{split}\n",
    "R_{fx}(\\tau)&=E\\big[f(t)\\,x(t+\\tau)\\big]\\\\\n",
    "&=E\\Big[\\int_{0}^{+\\infty}f(t)\\,h(\\tau_1)\\,f(t+\\tau-\\tau_1)\\,\\textrm{d}  \\tau_1\\Big]\\\\\n",
    "&=\\int_{0}^{+\\infty}h(\\tau_1)\\,E\\big[f(t)\\,f(t+\\tau-\\tau_1)\\big]\\,\\textrm{d}  \\tau_1\\\\\n",
    "&=\\int_{0}^{+\\infty}h(\\tau_1)\\,R_{ff}(\\tau-\\tau_1)\\,\\textrm{d}  \\tau_1\n",
    "\\end{split}\n",
    "$$"
   ]
  },
  {
   "cell_type": "markdown",
   "id": "39dfac13-16b6-4dd5-bf72-52cfd6d099da",
   "metadata": {},
   "source": [
    "Naredimo sedaj prehod v frekvenčno domeno:\n",
    "\n",
    "$$\n",
    "\\begin{split}\n",
    "S_{fx} &= \\int_{-\\infty}^{+\\infty}R_{fx}(\\tau)\\,e^{-\\textrm{i}\\,2\\pi\\,f\\,\\tau}\\,\\textrm{d}\\tau\\\\\n",
    "&=\n",
    "\\underbrace{\\int_{0}^{+\\infty}\\,h(\\tau_1)\\,e^{-\\textrm{i}\\,2\\pi\\,f\\,\\tau_1}\\,\\textrm{d}  \\tau_1}_{H(f)}\\,\n",
    "\\underbrace{\\int_{-\\infty}^{+\\infty}R_{ff}(u)\\,e^{-\\textrm{i}\\,2\\pi\\,f\\,u}\\,\\textrm{d}  u}_{S_{ff}(f)}.\n",
    "\\end{split}\n",
    "$$\n",
    "\n",
    "Opomba: v zgornjem izrazu smo uporabili zamenjavo: $u=\\tau-\\tau_1$ in posledično $e^{-\\textrm{i}\\,2\\pi\\,f\\,\\tau}=e^{-\\textrm{i}\\,2\\pi\\,f\\,(u+\\tau_1)}$ ter nato ločili integracijske spremenljivke.\n",
    "Končni rezultat je:\n",
    "\n",
    ":::{note}\n",
    "\n",
    "Križno-spektralna gostota moči je definirana kot:\n",
    "\n",
    "$$\n",
    "S_{fx} = H(f)\\,S_{ff}(f).\n",
    "$$\n",
    "\n",
    ":::"
   ]
  },
  {
   "cell_type": "markdown",
   "id": "799a7bd7-c102-40d0-9c7a-30a3d675181e",
   "metadata": {},
   "source": [
    "Za razliko od avto-spektralne gostoste, križno-spektralna gostota ohranja fazno informacijo!"
   ]
  },
  {
   "cell_type": "markdown",
   "id": "9233f4d4-4897-4dd0-833a-f86d60aa6cbc",
   "metadata": {},
   "source": [
    "### Zgled\n",
    "\n",
    "S pomočjo zgleda spodaj si bomo pogledali avto- in križno- spektralno gostoto na naključno generiranih, normalno porazdeljenih, podatkih."
   ]
  },
  {
   "cell_type": "code",
   "execution_count": 50,
   "id": "00a97d08-0ecd-4dba-9f22-58390252e2e2",
   "metadata": {
    "tags": [
     "hide-input"
    ]
   },
   "outputs": [
    {
     "data": {
      "image/png": "[encoded data removed]",
      "text/plain": [
       "<Figure size 432x288 with 1 Axes>"
      ]
     },
     "metadata": {
      "needs_background": "light"
     },
     "output_type": "display_data"
    },
    {
     "data": {
      "image/png": "[encoded data removed]",
      "text/plain": [
       "<Figure size 432x288 with 2 Axes>"
      ]
     },
     "metadata": {
      "needs_background": "light"
     },
     "output_type": "display_data"
    }
   ],
   "source": [
    "import numpy as np\n",
    "import matplotlib.pyplot as plt\n",
    "\n",
    "rng = np.random.default_rng(0)\n",
    "N = 5000\n",
    "dt = 1./250\n",
    "f = rng.normal(size=N)\n",
    "time = np.arange(N)*dt\n",
    "\n",
    "F = np.fft.rfft(f)/N\n",
    "freq = np.fft.rfftfreq(N, d=dt)\n",
    "Gff = 2*np.abs(F.conj()*F)\n",
    "\n",
    "def alpha(freq, m, k, c):\n",
    "    \"\"\"\n",
    "    Frekvenčna prenosna funkcija linearnega oscilatorja.\n",
    "    \"\"\"\n",
    "    omega = 2*np.pi*freq\n",
    "    return 1 / (-omega**2*m + 1j*omega*c + k)\n",
    "\n",
    "H = alpha(freq, m=1,k=1e5,c=10)\n",
    "Gxx = np.abs(H.conj()*H*Gff)\n",
    "Gfx = H*Gff\n",
    "\n",
    "plt.title('Avto-spektralna gostota moči')\n",
    "plt.semilogy(freq, Gff, label='Vzbujanje $G_{ff}$')\n",
    "plt.semilogy(freq, Gxx, label='Odziv $G_{xx}$')\n",
    "plt.xlabel('Frekvenca [Hz]')\n",
    "plt.legend()\n",
    "plt.show()\n",
    "\n",
    "\n",
    "fig, ax = plt.subplots()\n",
    "ax.set_title('Avtospektralna gostota moči')\n",
    "ax.semilogy(freq, np.abs(Gfx), label='$|G_{fx}(f)|$')\n",
    "ax.legend(loc=3)\n",
    "ax.set_xlabel('f [Hz]')\n",
    "ax.set_ylabel('$|G_{fx}(f)|$')\n",
    "ax2 = ax.twinx() \n",
    "ax2.plot(freq, np.angle(Gfx), 'C1', label='$\\\\angle G_{fx}(f)$')\n",
    "ax2.set_xlabel('f [Hz]')\n",
    "ax2.set_ylabel('$\\\\angle G_{fx}(f)$ [rad]')\n",
    "ax2.legend(loc=4)\n",
    "plt.show()"
   ]
  },
  {
   "cell_type": "markdown",
   "id": "bdac81bc-c3ec-4f7e-b61b-7024474ef8c9",
   "metadata": {},
   "source": [
    "## Koherenca\n",
    "\n",
    ":::{note}\n",
    "\n",
    "Koherenca je definirana kot:\n",
    "\n",
    "$$\n",
    "\\gamma_{fx}^2(f)=\\frac{|G_{fx}(f)|^2}{G_{ff}(f)\\,G_{xx}(f)}\n",
    "=\\frac{|S_{fx}(f)|^2}{S_{ff}(f)\\,S_{xx}(f)}\n",
    "$$\n",
    "\n",
    ":::\n",
    "\n",
    "in predstavlja merilo linearne povezanosti med vhodom (vzbujanjem $f$) in izhodom (odzivom $x$) sistema. "
   ]
  },
  {
   "cell_type": "markdown",
   "id": "28e3b526-3f33-4f41-8213-38706816ac20",
   "metadata": {},
   "source": [
    "Ker velja:\n",
    "\n",
    "$$\n",
    "|\\underbrace{S_{fx}(f)}_{\\frac{1}{T}\\, F^*(f) \\, X(f)}|^2\\le \\underbrace{S_{ff}(f)}_{\\frac{1}{T}\\, F^*(f) \\, F(f)}\\,\\overbrace{S_{xx}(f)}^{\\frac{1}{T}\\, X^*(f) \\, X(f)},\n",
    "$$\n",
    "\n",
    "se koherenca $\\gamma_{fx}^2(f)$ nahaja v območju od 0 do 1:\n",
    "\n",
    "$$\n",
    "0\\le\\gamma_{fx}^2(f)\\le 1\n",
    "$$\n",
    "\n",
    "Če je koherenca 0, to pomeni, da vzbujanje in odziv nista povezana, če je koherenca 1, pa to pomeni, da sta vzbujanje in odziv linearno odvisna. Odstopanje od 1 se izmeri tudi takrat, ko imamo v meritvi šum, obravnavamo nelinearen sistem ali pa je odziv posledica (tudi) drugih vzbujanj in ne samo $f(t)$."
   ]
  },
  {
   "cell_type": "markdown",
   "id": "09644ccc-d68c-41e9-9ddd-9a5b5341d440",
   "metadata": {},
   "source": [
    "## Cenilke frekvenčne prenosne funkcije\n",
    "\n",
    "Različne oblike frekvenčne prenosne funkcije (FRF) smo teoretično spoznali v poglavju: {ref}`sec:frf`. Tukaj si bomo pogledali kako FRF ocenimo na podlagi izmerjenih podatkov, pri tem pa se bomo omejili na sisteme z enim (sočasnim) vzbujanjem in enim (sočasnim) odzivom (to so tako imenovani SISO sistemi: ang. *single input, single otput*).\n",
    "\n",
    "Linearni, časovno invariantni SISO sistem je mogoče predstaviti z blokovnim diagramom na sliki spodaj. Kjer je $f(t)$ vzbujevalna sila, $h(t)$ je funkcija impulznega odziva in $x(t)$ je odziv; $F(\\omega)$, $\\alpha(\\omega)$ in $X(\\omega)$ so njihovi pari v frekvenčni domeni.\n",
    "\n",
    "![random_ensemble](./images/FRF_nonoise.svg)"
   ]
  },
  {
   "cell_type": "markdown",
   "id": "acd277cd-a319-42a0-9be4-654e86114796",
   "metadata": {},
   "source": [
    "FRF je za naključni proces definirana z $\\alpha(\\omega)=S_{fx}/S_{ff}$, kjer sta $S_{ff}$ in $S_{fx}$ avto- in križna-spektralna gostota moči.\n",
    "\n",
    "Slika spodaj prikazuje SISO sistem, kjer sta $u(t)$ in $v(t)$ resnični vhod (vzbujanje) in resnični izhod (odziv) sistema. $m(t)$ predstavlja izmerjen šum na vhodu~$f(t)$ in $n(t)$ predstavlja izmerjen šum na izhodu $x(t)$. Velike črke so ustrezne količine frekvenčne domene.\n",
    "\n",
    "![random_ensemble](./images/FRF_noise.svg)\n",
    "\n",
    "Merilni šum je vedno prisoten in nam preprečuje, da bi izmerii dejanske vrednosti, ki vstopajo ali izstopajo v/iz sistema. Slika kaže, da v resnici ni mogoče izmeriti dejanskega vhoda v sistem~$u(t)$ in tudi ni mogoče izmeriti dejanskega izhoda sistema~$v(t)$. Namesto tega merimo vhod s šumom:\n",
    "\n",
    "$$\n",
    "f(t)=u(t)+m(t)\n",
    "$$\n",
    "\n",
    "in izhod s šumom:\n",
    "\n",
    "$$\n",
    "x(t)=v(t)+n(t).\n",
    "$$"
   ]
  },
  {
   "cell_type": "markdown",
   "id": "87d96fef-7bcf-488b-b57c-e9bf6508412d",
   "metadata": {},
   "source": [
    "Za poljubne korelacije med signaloma $u(t)$ in $v(t)$ ter šumom $m(t)$ in $n(t)$, lahko definiramo avto- in križno-spektralno gostoto moči:\n",
    "\n",
    "$$\n",
    "\\begin{split}\n",
    "S_{ff}(\\omega) &= S_{uu}(\\omega) + S_{mm}(\\omega) + S_{mu}(\\omega) + S_{um}(\\omega),\\\\\n",
    "S_{xx}(\\omega) &= S_{vv}(\\omega) + S_{nn}(\\omega) + S_{nv}(\\omega) + S_{vn}(\\omega),\\\\\n",
    "S_{fx}(\\omega) &= S_{uv}(\\omega) + S_{un}(\\omega) + S_{mv}(\\omega) + S_{mn}(\\omega).\n",
    "\\end{split}\n",
    "$$"
   ]
  },
  {
   "cell_type": "markdown",
   "id": "df1b46de-d053-4447-bc58-3087142bb1c0",
   "metadata": {},
   "source": [
    "Vhod $u(t)$ in izhod $v(t)$ sistema sta povezana s pomočjo FRF:\n",
    "\n",
    "$$\n",
    "\\begin{split}\n",
    "S_{vv}(\\omega)&=|\\alpha(\\omega)|^2\\,S_{uu}(\\omega),\\\\\n",
    "S_{uv}(\\omega)&=\\alpha(\\omega)\\,S_{uu}(\\omega).\n",
    "\\end{split}\n",
    "$$"
   ]
  },
  {
   "cell_type": "markdown",
   "id": "ba5b3303-e124-4a4b-ae41-d8533cfd7133",
   "metadata": {},
   "source": [
    "V nadaljevanju bomo poskušali iz meritev s šumom ($f(t)=u(t)+m(t)$ in $x(t)=v(t)+n(t)$) oceniti dejansko frekvečno prenosno funkcijo."
   ]
  },
  {
   "cell_type": "markdown",
   "id": "b4b19a44-e14d-4aa4-b655-a5e34a0aae48",
   "metadata": {},
   "source": [
    "### Cenilka $\\hat{H}_1$\n",
    "\n",
    "Pri merjenju vzbujanja $f(t)$ in odziva~$x(t)$ slednji običajno pokriva višji dinamični razpon (v meritvi imamo relativno velike vrednosti in tudi relativno majhne) in je zato bolj občutljiv na merilni šum. Zaradi tega predpostavimo, da vhodnega šuma $m(t)=0$ ni, posledično velja:\n",
    "\n",
    "$$\n",
    "S_{mm}(\\omega)=0,\\quad S_{mn}(\\omega)=0,\\quad S_{mu=0}(\\omega)=0,\\quad S_{mv}(\\omega)=0\n",
    "$$\n",
    "\n",
    "in da izhodni šum $n(t)$ ni koreliran s sistemom, torej velja:\n",
    "\n",
    "$$\n",
    "S_{un}(\\omega)=0.\n",
    "$$\n",
    "\n",
    "Posledično se avto- in križne-spektralne gostote poenostavijo:\n",
    "\n",
    "$$\n",
    "\\begin{split}\n",
    "S_{ff}(\\omega) &= S_{uu}(\\omega),\\\\\n",
    "S_{xx}(\\omega) &= S_{vv}(\\omega) + S_{nn}(\\omega),\\\\\n",
    "S_{fx}(\\omega) &= S_{uv}(\\omega).\n",
    "\\end{split}\n",
    "$$"
   ]
  },
  {
   "cell_type": "markdown",
   "id": "0e0323df-daa2-4b54-a737-d7cbacbf44d3",
   "metadata": {},
   "source": [
    "Iz zadnje enačbe lahko na podlagi merjenih podatkov ($x(t)$ in $f(t)$) ocenimo dejansko FRF: $S_{fx}(\\omega)=S_{uv}(\\omega)$. S pomočjo povezave $S_{fx}(\\omega)=\\alpha(\\omega)\\,S_{ff}(\\omega)$ lahko FRF ocenimo kot:\n",
    "\n",
    ":::{note}\n",
    "\n",
    "Cenilka $\\hat{H}_1(\\omega)$:\n",
    "\n",
    "$$\n",
    "\\begin{split}\n",
    "\\hat{H}_1(\\omega)&=\\hat{\\alpha}_1(\\omega)=\\frac{\\hat{S}_{fx}(\\omega)}{\\hat{S}_{ff }(\\omega)},\n",
    "\\end{split}\n",
    "$$\n",
    "\n",
    ":::"
   ]
  },
  {
   "cell_type": "markdown",
   "id": "98f8ef9b-3481-4967-b5ef-497482714303",
   "metadata": {},
   "source": [
    "kjer smo uporabili simbol $\\hat{~}$ za označevanje ocene iz meritve. Pri tem je pomambno, da avto- $\\hat{S}_{ff}(\\omega)$ in križne- $\\hat{S}_{fx} (\\omega)$ spektralne gostote moči dobimo s povprečenjem naključnega procesa (glejte zgled spodaj)."
   ]
  },
  {
   "cell_type": "markdown",
   "id": "073bf636-2dd4-4855-998b-832c7358af28",
   "metadata": {},
   "source": [
    "Za oceno kvalitete in linearnosti meritve, potrebujemo še koherenco:\n",
    "\n",
    "$$\n",
    "\\begin{split}\n",
    "\\hat{\\gamma}_{fx}^2&=\\frac{|\\hat{S}_{fx}|^2}{\\hat{S}_{ff}\\,\\big(\\underbrace{{S}_{vv}+S_{nn}}_{\\hat{S}_{xx}}\\big)},\n",
    "\\end{split}\n",
    "$$\n",
    "\n",
    "kar kaže, da šum na izhodu $S_{nn}(\\omega)$ zmanjša koherenco in s tem kakovost ocenjenega FRF.\n",
    "\n",
    "Če vzbujevalnega šuma $m(t)$ ni mogoče zanemariti, potem velja $S_{ff}=S_{uu}+S_{mm}$ in:\n",
    "\n",
    "$$\n",
    "\\begin{split}\n",
    "\\hat{H}_1(\\omega)&=\\frac{\\hat{S}_{fx}(\\omega)}{\\hat{S}_{uu}(\\omega)+\\hat{S}_{mm}(\\omega)},.\n",
    "\\end{split}\n",
    "$$\n",
    "\n",
    "Sledi, da cenilka $\\hat{H}_1$ zaradi šuma na vhodu podceni pravi FRF $\\alpha=S_{uv}/S_{uu}$."
   ]
  },
  {
   "cell_type": "markdown",
   "id": "2ef6efbb-841e-4d8d-9180-0b4c806258a2",
   "metadata": {},
   "source": [
    "### Cenilka $\\hat{H}_2$\n",
    "\n",
    "Tukaj raziskujemo oceno FRF, ko šuma meritve na strani vzbujanja ni mogoče zanemariti, vendar ta ni koreliran s sistemom. Nadalje, predpostavimo, da je mogoče zanemariti šum na strani odziva $n(t)=0$, posledično velja:\n",
    "\n",
    "$$\n",
    "\\begin{split}\n",
    "S_{ff}(\\omega) &= S_{uu}(\\omega) + S_{mm}(\\omega)\\\\\n",
    "S_{xx}(\\omega) &= S_{vv}(\\omega)\\\\\n",
    "S_{fx}(\\omega) &= S_{uv}(\\omega)\n",
    "\\end{split}\n",
    "$$\n",
    "\n",
    "in z uporabo:\n",
    "\n",
    "$$\n",
    "\\begin{split}\n",
    "S_{xx}&=S_{vv}\\\\\n",
    "&=|\\alpha(\\omega)|^2\\,S_{uu}\\\\\n",
    "&=\\alpha(\\omega)\\,\\alpha(\\omega)^*\\,S_{uu}\\\\\n",
    "&=\\alpha(\\omega)\\,S_{xf},\n",
    "\\end{split}\n",
    "$$\n",
    "\n",
    "kjer smo v zadnji vrstici uporabili $S_{xf}=S_{vu}=\\alpha(\\omega)^*\\,S_{uu}$."
   ]
  },
  {
   "cell_type": "markdown",
   "id": "d4c2730d-d0d7-4886-84a8-9dc5db5e84fe",
   "metadata": {},
   "source": [
    "Posledično smo izpeljali cenilko za oceno FRF:\n",
    "\n",
    ":::{note}\n",
    "\n",
    "Cenilka $\\hat{H}_2(\\omega)$:\n",
    "\n",
    "$$\n",
    "\\begin{split}\n",
    "\\hat{H}_2(\\omega)&=\\hat{\\alpha}_2(\\omega)=\\frac{\\hat{S}_{xx}}{\\hat{S}_{xf}}.\n",
    "\\end{split}\n",
    "$$\n",
    "\n",
    "::\n",
    "\n",
    "Funkcija koherence postane:\n",
    "\n",
    "$$\n",
    "\\begin{split}\n",
    "\\hat{\\gamma}_{fx}^2&=\\frac{|\\hat{S}_{fx}|^2}{\\big(\\underbrace{{S}_{uu}+{S}_{mm}}_{\\hat{S}_{ff}}\\big)\\,\\hat{S}_{xx}}\n",
    "\\end{split}\n",
    "$$"
   ]
  },
  {
   "cell_type": "markdown",
   "id": "22d02a2e-3101-4a0f-b224-70174df13547",
   "metadata": {},
   "source": [
    "kar kaže, da tudi šum na strani vzbujanja zmanjša koherenco in s tem kakovost ocenjenega FRF.\n",
    "\n",
    "Opazimo lahko, da če cenilko $\\hat{H}_1$ delimo s cenilko $\\hat{H}_2$, dobimo cenilko koherence:\n",
    "\n",
    "$$\n",
    "\\begin{split}\n",
    "\\hat{\\gamma}_{fx}^2&=\\frac{\\hat{H}_1}{\\hat{H}_2}.\n",
    "\\end{split}\n",
    "$$"
   ]
  },
  {
   "cell_type": "markdown",
   "id": "4f58ef06-13e2-4f9a-8253-d37720bf18d1",
   "metadata": {},
   "source": [
    "Če šuma na strani odziva $n(t)$ ni mogoče zanemariti, potem velja $S_{xx}=S_{vv}+S_{nn}$ in:\n",
    "\n",
    "$$\n",
    "\\begin{split}\n",
    "\\hat{H}_2(\\omega)&=\\frac{\\hat{S}_{vv}+\\hat{S}_{nn}}{\\hat{S}_{xf}}.\n",
    "\\end{split}\n",
    "$$\n",
    "\n",
    "V primeru šuma na odzivu cenilka $\\hat{H}_2$ torej preceni pravi FRF $\\alpha$."
   ]
  },
  {
   "cell_type": "markdown",
   "id": "71a72003-d1d6-4e94-bc10-4c6049b9215e",
   "metadata": {},
   "source": [
    "### Zgled\n",
    "\n"
   ]
  },
  {
   "cell_type": "code",
   "execution_count": 54,
   "id": "f6ce7d44-93df-4b78-97df-e49f7745bcbd",
   "metadata": {
    "tags": [
     "hide-input"
    ]
   },
   "outputs": [
    {
     "data": {
      "image/png": "[encoded data removed]",
      "text/plain": [
       "<Figure size 432x288 with 1 Axes>"
      ]
     },
     "metadata": {
      "needs_background": "light"
     },
     "output_type": "display_data"
    },
    {
     "data": {
      "image/png": "[encoded data removed]",
      "text/plain": [
       "<Figure size 432x288 with 1 Axes>"
      ]
     },
     "metadata": {
      "needs_background": "light"
     },
     "output_type": "display_data"
    }
   ],
   "source": [
    "import numpy as np\n",
    "import matplotlib.pyplot as plt\n",
    "\n",
    "rng = np.random.default_rng(0)\n",
    "fs = 250\n",
    "N = 5000\n",
    "dt = 1./fs\n",
    "time = np.arange(N)*dt\n",
    "\n",
    "SNR = 20 # 20dB pomeni, da je razmerje med varianco signala in šuma 10\n",
    "\n",
    "σ_u = 1\n",
    "σ_m = σ_u/10**(SNR/20) # na podlagi definirije 20*np.log10(σ_u/σ_m)\n",
    "\n",
    "u = rng.normal(size=N, scale=σ_u)\n",
    "m = rng.normal(size=N, scale=σ_m)\n",
    "\n",
    "f = u + m # pomerjeno vzbujanje v času\n",
    "\n",
    "U = np.fft.rfft(u)/N # dejansko vzbujanje sistema\n",
    "F = np.fft.rfft(f)/N # pomerjeno vzbujanje sistema\n",
    "freq = np.fft.rfftfreq(N, d=dt)\n",
    "\n",
    "Guu = 2*np.abs(U.conj()*U)\n",
    "Gff = 2*np.abs(F.conj()*F)\n",
    "\n",
    "def alpha(freq, m, k, c):\n",
    "    \"\"\"\n",
    "    Frekvenčna prenosna funkcija linearnega oscilatorja.\n",
    "    \"\"\"\n",
    "    omega = 2*np.pi*freq\n",
    "    return 1 / (-omega**2*m + 1j*omega*c + k)\n",
    "\n",
    "H = alpha(freq, m=1,k=1e5,c=10)\n",
    "V = H*U                      #odziv brez šuma\n",
    "v = np.fft.irfft(V*N)        # dejanski odziv v času\n",
    "σ_n = np.std(v)/10**(SNR/20) # na podlagi definirije 20*np.log10(σ_v/σ_n)\n",
    "n = rng.normal(size=N, scale=σ_n)\n",
    "\n",
    "x = v + n            # pomerjen odziv sistema\n",
    "X = np.fft.rfft(x)/N # pomerjeno vzbujanje sistema\n",
    "\n",
    "Gfx = 2*F.conj()*X\n",
    "\n",
    "H1 = Gfx/Gff\n",
    "\n",
    "fig, ax = plt.subplots()\n",
    "ax.set_title('Avtospektralna gostota moči - amplituda')\n",
    "ax.semilogy(freq, np.abs(H), label='$|H(f)|$')\n",
    "ax.semilogy(freq, np.abs(H1), label='$|\\\\hat H_1(f)|$', alpha=0.5)\n",
    "ax.legend()\n",
    "plt.show()\n",
    "\n",
    "fig, ax = plt.subplots()\n",
    "ax.set_title('Avtospektralna gostota moči - faza')\n",
    "ax.plot(freq, np.angle(H), label='$\\\\angle H(f)$')\n",
    "ax.plot(freq, np.angle(H1), label='$\\\\angle\\\\hat H_1(f)$', alpha=0.5)\n",
    "ax.legend()\n",
    "plt.show()"
   ]
  }
 ],
 "metadata": {
  "kernelspec": {
   "display_name": "Python 3 (ipykernel)",
   "language": "python",
   "name": "python3"
  },
  "language_info": {
   "codemirror_mode": {
    "name": "ipython",
    "version": 3
   },
   "file_extension": ".py",
   "mimetype": "text/x-python",
   "name": "python",
   "nbconvert_exporter": "python",
   "pygments_lexer": "ipython3",
   "version": "3.9.4"
  }
 },
 "nbformat": 4,
 "nbformat_minor": 5
}
