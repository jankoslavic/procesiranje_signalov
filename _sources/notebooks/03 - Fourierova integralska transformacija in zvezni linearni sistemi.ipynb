{
 "cells": [
  {
   "cell_type": "markdown",
   "id": "e1ebe686",
   "metadata": {},
   "source": [
    "(sec:fourierova_int_transf=\n",
    "# Fourierova integralska transformacija in zvezni linearni sistemi"
   ]
  },
  {
   "cell_type": "markdown",
   "id": "ec526ed6-ffef-471f-a30b-3bfc8a1101ba",
   "metadata": {},
   "source": [
    "Izračun Fourierove vrste temelji na periodi $T_p$; integral za izračun koeficientov lahko definiramo od $-T_p$ do $+T_p$:\n",
    "\n",
    "$$\n",
    "c_n=\\frac{1}{T_p}\\,\\int_{-T_p/2}^{+T_p/2}x(t)\\,e^{-\\textrm{i}\\,\\omega_{p}\\,n\\,t}\\,\\textrm{d} t,\n",
    "$$\n",
    "\n",
    "kjer je $\\omega_p=2\\pi/T_p$ osnovna krožna frekvenca. Kadar $T_p$ postane velik in gre proti neskončnosti $T_p\\rightarrow \\infty$, osnovna krožna frekvenca gre proti nič:  $\\omega_p\\rightarrow 0$. Da se izognemu težavam pri deljenju z 0, $c_n$ pomnožimo s $T_p$, uporabimo $\\omega_n=n\\,\\omega_p$ in nadaljujemo:\n",
    "\n",
    "$$\n",
    "\\lim_{T_p\\rightarrow \\infty} c_n\\,T_p=\\underbrace{\\int_{-T_p/2}^{+T_p/2}x(t)\\,e^{-\\textrm{i}\\,\\omega_{n}\\,t}\\,\\textrm{d} t}_{X(\\omega_n)}.\n",
    "$$\n",
    "\n",
    "Ob predpostavki, da limita obstaja, zapišemo **Fourierovo transformacijo** (tudi **Fourierov integral**):\n",
    "\n",
    "$$\n",
    "X(\\omega)= \\mathcal{F}\\{x(t)\\} = \\int_{-\\infty}^{+\\infty}x(t)\\,e^{-\\textrm{i}\\,\\omega\\,t}\\,\\textrm{d} t,\n",
    "$$\n",
    "kjer smo namesto $\\omega_{n}$ zapisali $\\omega$, saj je sedaj frekvenca zvezno definirana. $X(\\omega)$ predstavlja amplitudno frekvenčno gostoto, saj je $c_n\\,T_p=c_n/\\Delta f$, kjer je $\\Delta f$ frekvenčna pasovna širina (ang. *bandwidth*). S $\\mathcal{F}\\{\\}$ označimo Fourierovo transformacijo."
   ]
  },
  {
   "cell_type": "markdown",
   "id": "a98455fb-9eea-4c4f-b585-a34d1d75bca7",
   "metadata": {},
   "source": [
    "Rekonstruirana zvezna funkcija, kadar $T_p\\rightarrow \\infty$:\n",
    "$$\n",
    "x(t)=\\lim_{T_p\\rightarrow\\infty}\\sum_{n=-\\infty}^{+\\infty}\n",
    "X(\\omega_n)\\underbrace{\\frac{1}{T_p}}_{\\Delta f}\\,e^{\\mathrm{i}\\,\\overbrace{2\\pi\\,n/T_p}^{\\omega_n}\\,t}\n",
    "=\\lim_{T_p\\rightarrow\\infty}\\sum_{n=-\\infty}^{+\\infty}\n",
    "X(\\omega_n)\\,e^{\\mathrm{i}\\,\\omega_n\\,t}\\Delta f,\n",
    "$$\n",
    "\n",
    "v limitni obliki, je izraz zvezen in ga imenujemo **inverzna Fourierova transformacija**, ter označimo z $\\mathcal{F}^{-1}\\{\\}$:\n",
    "\n",
    "$$\n",
    "x(t)=\\mathcal{F}^{-1}\\{X(\\omega)\\}=\\frac{1}{2\\pi}\\int_{-\\infty}^{+\\infty}\n",
    "X(\\omega)\\,e^{\\mathrm{i}\\,\\omega\\,t}\\textrm{d}\\omega.\n",
    "$$\n",
    "\n",
    "V izrazu zgoraj smo uporabili $\\textrm{d}f=\\textrm{d}\\omega/(2\\pi)$."
   ]
  },
  {
   "cell_type": "markdown",
   "id": "2adfba93-8b5f-44ca-9e5a-b207cd3867fa",
   "metadata": {},
   "source": [
    "Če tukaj še enkrat ponovimo Fourierovo transformacijo in njeno inverzno obliko zapisano v krožni frekvenci:\n",
    "$$\n",
    "X(\\omega)=\\int_{-\\infty}^{\\infty} x(t)\\,e^{-\\,\\textrm{i}\\,\\omega\\,t}\\,\\textrm{d} t,\n",
    "\\qquad\n",
    "x(t)=\\frac{1}{2\\,\\pi}\\int_{-\\infty}^{\\infty} X(\\omega)\\,e^{\\,\\textrm{i}\\,\\omega\\,t}\\,\\textrm{d} \\omega.\n",
    "$$\n",
    "\n",
    "V numeričnih metodah pa je frekvenca bolj pogosto definirana v sekundni frekvenci, takrat je Fourierova transformacija in njena inverzna oblika definirana kot:\n",
    "\n",
    "$$\n",
    "X(f)=\\int_{-\\infty}^{\\infty} x(t)\\,e^{-\\textrm{i}\\,2\\pi\\,f\\,t}\\,\\textrm{d} t,\n",
    "\\qquad\n",
    "x(t)=\\int_{-\\infty}^{\\infty} X(f)\\,e^{\\textrm{i}\\,2\\pi\\,f\\,t}\\,\\textrm{d} f.\n",
    "$$\n",
    "\n"
   ]
  }
 ],
 "metadata": {
  "kernelspec": {
   "display_name": "Python 3 (ipykernel)",
   "language": "python",
   "name": "python3"
  },
  "language_info": {
   "codemirror_mode": {
    "name": "ipython",
    "version": 3
   },
   "file_extension": ".py",
   "mimetype": "text/x-python",
   "name": "python",
   "nbconvert_exporter": "python",
   "pygments_lexer": "ipython3",
   "version": "3.9.4"
  }
 },
 "nbformat": 4,
 "nbformat_minor": 5
}
