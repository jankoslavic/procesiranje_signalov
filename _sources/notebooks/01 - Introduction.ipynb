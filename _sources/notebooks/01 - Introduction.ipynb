{
 "cells": [
  {
   "cell_type": "markdown",
   "id": "b9dcfbff",
   "metadata": {},
   "source": [
    "(intro)=\n",
    "# Introduction to Signal processing"
   ]
  },
  {
   "cell_type": "markdown",
   "id": "065b4f46",
   "metadata": {},
   "source": [
    "Signal processing deals with the analysis of processes which can in general be **deterministic** or **random**\\index{process!deterministic}\\index{process!random}. Deterministic process is the process that can (with a reasonable accuracy) be described with an explicit mathematical relation. Random process is a process than cannot be described with an explicit mathematical relation, but requires probability statements and statistical averages.\n",
    "\n",
    "This chapter will give a general introduction which is required for the following chapters. Greater details can be found in books by {cite:t}`bendat_piersol_random_data_2010`, {cite:t}`shin2008fundamentals`, {cite:t}`newland_1993` and {cite:t}`rice1944mathematical`.\n",
    "\n",
    "\\section{Deterministic process}\n",
    "\n",
    "Deterministic data from a deterministic process\\index{data!deterministic} is that which can be unambiguously deduced through mathematical relationships and conditions. Values within the sequence, such as a time history\\index{time history}, can be successfully extrapolated or predicted, to at least within the tolerable error margin. When considering for instance the measured data from a deterministic dynamic system it is expected that, under equal conditions, the observed repeated system response will always be equal, as is, for example, for a mathematical pendulum, released from the same height.\n"
   ]
  },
  {
   "cell_type": "code",
   "execution_count": null,
   "id": "d325e9ee",
   "metadata": {},
   "outputs": [],
   "source": []
  }
 ],
 "metadata": {
  "kernelspec": {
   "display_name": "Python 3",
   "language": "python",
   "name": "python3"
  },
  "language_info": {
   "codemirror_mode": {
    "name": "ipython",
    "version": 3
   },
   "file_extension": ".py",
   "mimetype": "text/x-python",
   "name": "python",
   "nbconvert_exporter": "python",
   "pygments_lexer": "ipython3",
   "version": "3.8.8"
  }
 },
 "nbformat": 4,
 "nbformat_minor": 5
}
