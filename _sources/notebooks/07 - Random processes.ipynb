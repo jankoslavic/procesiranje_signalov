{
 "cells": [
  {
   "cell_type": "markdown",
   "id": "45eb6c17",
   "metadata": {},
   "source": [
    "(sec:random)=\n",
    "# Osnove naključnih procesov"
   ]
  },
  {
   "cell_type": "markdown",
   "id": "480e60f4-ae7f-47f5-968b-028680054a22",
   "metadata": {},
   "source": [
    "Dinamične obremenitve pogosto niso deterministične; primeri naključnih obremenitve so: obremenitve zaradi morskih valov, hrapavost ceste in vibracije zaradi pogonskega motorja. Take obremenitve je treba obravnavati kot **naključne procese**. V tem poglavju si bomo pogledali kako to naredimo in kako jih potem uspešno uporabimo pri obravnavi dinamskih sistemov. "
   ]
  },
  {
   "cell_type": "markdown",
   "id": "af9596c3-14fe-4ee6-947f-c1c0b3036f3c",
   "metadata": {},
   "source": [
    "Naključnih podatkov v nasprotju z determinističnimi podatki ni mogoče natančno predvideti, določene značilnosti pa lahko razberemo z analizo njihovih segmentov; če na primer pomerimo hrapavost segmenta površine, lahko z določeno verjetnostjo sklepamo o značilnostih hrapavosti drugih segmentov. Pri opisu naključnih procesov si pogosto pomagamo s predpostavko naključni porazdelitvi procesa (npr. normalno ali Gaussovo porazdeljen proces)."
   ]
  },
  {
   "cell_type": "markdown",
   "id": "590add86-06c6-482c-bfcd-acaf0a8d9610",
   "metadata": {},
   "source": [
    "Medtem, ko bi lahko naključni proces analizirali v časovni domeni, obstajajo pomanjkljivosti za uporabo takega pristopa. Za ustrezno vrednotenje procesa je treba v časovni domeni opraviti dovolj veliko število vzorčnih meritev (ali opazovanj), ki jih nato analiziramo kot skupino (ansambel, ang. *ensemble*). Kakor bomo videli pozneje, je strukturno dinamiko in naključne procese v frekvenčni domeni bistveno elegantneje analizirati."
   ]
  },
  {
   "cell_type": "markdown",
   "id": "10566a80-ba97-434f-b395-7b54d37a93d0",
   "metadata": {},
   "source": [
    "Referenčna besedila, ki poglobljeno obravnavajo to temo, ki jih priporočajo bralcu, so {cite}`bendat_piersol_random_data_2010`, {cite}`newland_1993` ter {cite}`shin2008fundamentals`."
   ]
  },
  {
   "cell_type": "markdown",
   "id": "22c7318c-bc2e-4504-ab02-64235bc91f1a",
   "metadata": {},
   "source": [
    "## Kaj je naključni proces?\n",
    "\n",
    "Naključni proces je definiran s kombinacijo **funkcije gostote verjetnosti** (ang. *Probability Density Function* - PDF) in **spektralno gostoto moči** (ang. *Power Spectral Density* - PSD).\n",
    "\n",
    "Slika spodaj prikazuje ansambel $\\left\\{x_k(t)\\right\\}$ vzorčnih funkcij (opazovanj) $x_k(t)$, pri čemer je vsako opazovanje $k$ sestavljeno iz naključne spremenljivke v času $t_i$: $x_k(t_i)$. Kot bo obravnavano kasneje, predpostavki o stacionarnosti in ergodičnosti bistveno poenostavijo analizo naključnih podatkov (več pozneje).\n",
    "\n",
    "![random_ensemble](./images/random_ensemble.svg)"
   ]
  },
  {
   "cell_type": "code",
   "execution_count": null,
   "id": "759b1351-be51-4cae-9949-6ffc210d4caf",
   "metadata": {},
   "outputs": [],
   "source": []
  }
 ],
 "metadata": {
  "kernelspec": {
   "display_name": "Python 3 (ipykernel)",
   "language": "python",
   "name": "python3"
  },
  "language_info": {
   "codemirror_mode": {
    "name": "ipython",
    "version": 3
   },
   "file_extension": ".py",
   "mimetype": "text/x-python",
   "name": "python",
   "nbconvert_exporter": "python",
   "pygments_lexer": "ipython3",
   "version": "3.9.4"
  }
 },
 "nbformat": 4,
 "nbformat_minor": 5
}
