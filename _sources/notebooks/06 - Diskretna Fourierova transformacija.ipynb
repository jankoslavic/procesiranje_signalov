{
 "cells": [
  {
   "cell_type": "markdown",
   "id": "e1ebe686",
   "metadata": {},
   "source": [
    "(sec:DFT)=\n",
    "# 6. Diskretna Fourierova transformacija"
   ]
  },
  {
   "cell_type": "markdown",
   "id": "79d5bc64-f89e-4070-b886-54a1c72c7b01",
   "metadata": {},
   "source": [
    "Predhodno smo spoznali Fourierovo transformacijo za vzorčene podatke (glejte: {ref}`sec:enakomerno_casovno_vzorcenje`), kjer je vzorčenje s korakom $\\Delta t\\,n$ in $n\\in\\mathbb{Z}$ gre od $-\\infty$ do $+\\infty$. Kadar imamo končno mnogo vzorčenih podatkov ($N$) in gre $n=[0,1,\\dots,N-1]$, uporabimo diskretno Fourierovo transformacijo (DFT).\n",
    "\n",
    ":::{note}\n",
    "\n",
    "**Diskretna Fourierova transformacija**:\n",
    "\n",
    "$$\n",
    "X_k = \\sum_{n=0}^{N-1} x_n\\,e^{-\\mathrm{i}\\,2\\pi\\,k\\,n/N},\n",
    "$$\n",
    "\n",
    "kjer velja $x_n = x(n\\,\\Delta t)$ in $X_k=X(k/(N\\,\\Delta t))$. Ker je DFT periodična z $1/\\Delta t$ ($X_k=X_{k+N}$), je treba izračunati samo $N$ členov, torej $k=[0,1,\\dots\\,N-1]$.\n",
    "\n",
    "\n",
    ":::"
   ]
  },
  {
   "cell_type": "markdown",
   "id": "0685c028-b7e4-4ab0-8f20-cbfd83dbe4a2",
   "metadata": {},
   "source": [
    "Da velja $X_k=X_{k+N}$ dokažemo z:\n",
    "\n",
    "$$\n",
    "e^{-\\mathrm{i}\\,2\\pi\\,k\\,n/N}=e^{-\\mathrm{i}\\,2\\pi\\,n\\,(k+N)/N}=e^{-\\mathrm{i}\\,2\\pi\\,n\\,k/N}\\,\\underbrace{e^{-\\mathrm{i}\\,2\\pi\\,n\\,N/N}}_{=\\cos(-2\\pi\\,n)=1}\n",
    "$$\n"
   ]
  },
  {
   "cell_type": "markdown",
   "id": "1ca76058-385b-4dee-82c0-6a679244209e",
   "metadata": {},
   "source": [
    "Inverzno DFT izpeljemo tako, da zgornjo enačbo pomnožimo z $e^{\\mathrm{i}\\,2\\pi\\,k\\,r/N}$ in nato seštejemo po $k$:\n",
    "\n",
    "$$\n",
    "\\sum_{k=0}^{N-1}X_k\\,e^{\\mathrm{i}\\,2\\pi\\,k\\,r/N} = \\sum_{k=0}^{N-1}\\sum_{n=0}^{N-1} x_n\\,e^{-\\mathrm{i}\\,2\\pi\\,k\\,n/N}\\,e^{\\mathrm{i}\\,2\\pi\\,k\\,r/N},\n",
    "$$\n",
    "\n",
    "Kjer na desni strani zamenjamo vrstni red vsote in ugotovimo:\n",
    "\n",
    "$$\n",
    "\\sum_{k=0}^{N-1} e^{-\\mathrm{i}\\,2\\pi\\,k\\,(n-r)/N}=\n",
    "\\begin{cases}\n",
    "N; \\quad n=r\\\\\n",
    "0; \\quad\\textrm{sicer.}\n",
    "\\end{cases}\n",
    "$$\n",
    "\n",
    "Sledi:\n",
    "\n",
    "$$\n",
    "\\sum_{k=0}^{N-1}X_k\\,e^{\\mathrm{i}\\,2\\pi\\,k\\,r/N} = x_r\\,N,\n",
    "$$\n"
   ]
  },
  {
   "cell_type": "markdown",
   "id": "feba9f2a-b670-4cea-a464-0889f8f45c5a",
   "metadata": {},
   "source": [
    ":::{note}\n",
    "\n",
    "**Inverzna diskretna Fourierova transformacija**:\n",
    "\n",
    "$$\n",
    "x_n = \\frac{1}{N} \\sum_{k=0}^{N-1} X_k\\,e^{\\mathrm{i}\\,2\\pi\\,k\\,n/N}.\n",
    "$$\n",
    ":::\n"
   ]
  },
  {
   "cell_type": "markdown",
   "id": "36755646-6c2c-4e69-aee3-454e89612da1",
   "metadata": {},
   "source": [
    "Ker velja:\n",
    "\n",
    "$$\n",
    "e^{\\mathrm{i}\\,2\\pi\\,k\\,n/N}=e^{\\mathrm{i}\\,2\\pi\\,k\\,(n+N)/N}=e^{\\mathrm{i}\\,2\\pi\\,k\\,n/N}\\,\\underbrace{e^{\\mathrm{i}\\,2\\pi\\,k\\,N/N}}_{=\\cos(2\\pi\\,k)=1}.\n",
    "$$"
   ]
  },
  {
   "cell_type": "markdown",
   "id": "eb470382-1fc2-4db3-8f65-444da2988a9d",
   "metadata": {},
   "source": [
    "(DFT_periodicno)=\n",
    "\n",
    ":::{note}\n",
    "\n",
    "Ugotovimo, da je $x_n$ periodična vrsta $x_n=x_{n+N}$. Res smo začeli z vzorčenimi podatki v času $x_n$, ki niso periodični; rezultat z inverzno DFT pa je periodičen.\n",
    "\n",
    ":::"
   ]
  },
  {
   "cell_type": "markdown",
   "id": "0eca6674-55b0-4296-8f97-4a68a0178ccb",
   "metadata": {},
   "source": [
    "## Hitra Fourierova transformacija\n",
    "\n",
    "Hitra Fourierova transformacija (ang. *Fast Fourier Transform* - FFT) je ime numeričnega algoritma za diskretno Fourierovo transformacijo. DFT ima numerični obseg proporcionalen z $N^2$, kar zapišemo kot: ($\\mathcal{O}(N^2)$). Kot avtorja hitre Fourierove transformacije štejeta James Cooley in John Tukey, ki sta algoritem objavila v letu 1965 (glejte: [vir](https://www.ams.org/journals/mcom/1965-19-090/S0025-5718-1965-0178586-1/S0025-5718-1965-0178586-1.pdf)), pozneje pa se je izkazalo, da je podoben algoritem že bistveno prej, v neobjavljenem delu iz leta 1805, odkril Carl Friedrich Gauss. Algoritem ima to bistveno lastnost, da je numerično bistveno hitrejši: $\\mathcal{O}(N\\log(N))$; ker numerični obseg več ne narašča kvadratično s številom elementov, je to bistveno povečalo uporabnost DFT in nekateri algoritem FFT smatrajo kot enega najbolj pomembnih algoritmov, saj je imel in še ima zelo pomemben družbeno-ekonomski vpliv. Kot zanimivost lahko tukaj povemo, da algoritem ni bil patentiran (glejte: [vir](https://en.wikipedia.org/wiki/Fast_Fourier_transform)). Zaradi simetrije v podatkih, je hitrost izračuna najvišja, če je število vzorcev enako $2^n$, kjer $n\\in\\mathbb{Z}$."
   ]
  },
  {
   "cell_type": "markdown",
   "id": "f7bce896-ad76-4706-8918-73ea3b51630a",
   "metadata": {},
   "source": [
    "Diskretna Fourierova transformacija je v paketu `numpy` dokumentirana [tukaj](https://numpy.org/doc/stable/reference/routines.fft.html) in si jo bomo najprej pogledali na spodnjem primeru sinusuide z amplitudo `A`, frekvenco `fr`, frekvenco vzorčenja `fs` in dolžino vzorčenja, ki bo enaka frekvenci vzorčenja (vzorčili bomo torej 1 sekundo). DFT bomo izvedli z metodo `numpy.fft.fft()` ([dokumentacija](https://numpy.org/doc/stable/reference/generated/numpy.fft.fft.html#numpy.fft.fft))"
   ]
  },
  {
   "cell_type": "code",
   "execution_count": 2,
   "id": "b6e94d9c-6fd2-459f-b877-ac8023a52ce1",
   "metadata": {},
   "outputs": [],
   "source": [
    "import numpy as np\n",
    "\n",
    "A = 1\n",
    "fr = 5\n",
    "fs = 100 \n",
    "N = 100\n",
    "dt = 1/fs\n",
    "t = np.arange(N)*dt\n",
    "x = A*np.sin(2*np.pi*fr*t)\n",
    "\n",
    "X = np.fft.fft(x)\n",
    "freq = np.fft.fftfreq(len(x), d=dt)"
   ]
  },
  {
   "cell_type": "markdown",
   "id": "95cabbf8-a91e-406c-85d2-d2db0850c958",
   "metadata": {},
   "source": [
    "Sinusuida ima samo eno frekvenčno komponento različno od nič:"
   ]
  },
  {
   "cell_type": "code",
   "execution_count": 3,
   "id": "5805efdb-bbbf-4ece-aa21-6750cedf5223",
   "metadata": {},
   "outputs": [
    {
     "data": {
      "text/plain": [
       "(array([-1.62040942e-14-50.j]), array([50.]))"
      ]
     },
     "execution_count": 3,
     "metadata": {},
     "output_type": "execute_result"
    }
   ],
   "source": [
    "(X[freq==fr], np.abs(X[freq==fr]))"
   ]
  },
  {
   "cell_type": "code",
   "execution_count": 20,
   "id": "4d1f64cf-9e1f-4170-be29-e7b8278f0805",
   "metadata": {
    "tags": [
     "hide-input"
    ]
   },
   "outputs": [
    {
     "data": {
      "image/png": "[encoded data removed]",
      "text/plain": [
       "<Figure size 432x288 with 1 Axes>"
      ]
     },
     "metadata": {
      "needs_background": "light"
     },
     "output_type": "display_data"
    },
    {
     "data": {
      "image/png": "[encoded data removed]",
      "text/plain": [
       "<Figure size 432x288 with 1 Axes>"
      ]
     },
     "metadata": {
      "needs_background": "light"
     },
     "output_type": "display_data"
    }
   ],
   "source": [
    "import matplotlib.pyplot as plt\n",
    "\n",
    "plt.title('Časovna domena')\n",
    "plt.plot(t, x, '.')\n",
    "plt.xlabel('Čas [s]')\n",
    "plt.ylabel('$x$')\n",
    "plt.show()\n",
    "\n",
    "plt.title('Frekvenčna domena - amplitudni spekter')\n",
    "plt.plot(freq, np.abs(X), '.')\n",
    "plt.xlabel('Frekvenca [Hz]')\n",
    "plt.ylabel('$X$')\n",
    "plt.show()"
   ]
  },
  {
   "cell_type": "markdown",
   "id": "7ce83af5-aac7-4df9-a747-791de0f0a65d",
   "metadata": {},
   "source": [
    "## Fourierove vrste in diskretna Fourierova transformacija\n",
    "\n",
    "Diskretna Fourierova transformacija je s Fourierovimi vrstami zelo povezana. Povezavo lahko hitro razkrijemo, če predpostavimo diskretno časovno vrsto $x_i=x(\\Delta t\\,i)$, kjer je $\\Delta t$ konstanten časovni korak, $i=0,1,\\dots,N-1$ in $T_p=N\\,\\Delta t$, sledi: \n",
    "\n",
    "$$\n",
    "\\begin{split}\n",
    "c_k &= \\frac{1}{T_p}\\,\\int_0^{T_p} x(t)\\,e^{-\\mathrm{i}\\,2\\pi\\,k\\,t/T_p}\\,\\mathrm{d}t\\\\\n",
    "&= \\frac{1}{N\\,\\Delta t}\\,\\sum_{n=0}^{N-1} x(n\\,\\Delta t)\\,e^{-\\mathrm{i}\\,2\\pi\\,k\\,\\Delta t\\,n/(N\\,\\Delta t)}\\,\\Delta t\\\\\n",
    "&= \\frac{1}{N}\\,\\underbrace{\\sum_{n=0}^{N-1} x(n\\,\\Delta t)\\,e^{-\\mathrm{i}\\,2\\pi\\,k\\,n/N}}_{X_k}\\\\\n",
    "&= \\frac{X_k}{N}\\\\\n",
    "\\end{split}\n",
    "$$"
   ]
  },
  {
   "cell_type": "markdown",
   "id": "9b4a7402-1bf8-494f-a1ab-a5a0016ee068",
   "metadata": {},
   "source": [
    "Poudarti je treba, da v splošnem $X_k/N\\ne c_k$, saj DFT temelji na končni vrsti in je zato $X_k$ periodična vrsta."
   ]
  },
  {
   "cell_type": "markdown",
   "id": "855673eb-0413-41c1-ad92-488e5f2bc470",
   "metadata": {},
   "source": [
    "Pri primerjanju DFT in Fourierovih vrst se pogosto naredi napaka pri razumevanju periode (predvsem zadnje diskretne točke). Pri zgornjem primeru sinusoide časovna točka pri `t=1` eksplicitno ni vključena; implicitno pa je, saj smo zgoraj spoznali, da so vzorčeni podatki periodični in velja $x_n=x_{n+N}$. Poglejmo ta detajl pobližje; Fourierove vrste so definirana kot:\n",
    "\n",
    "$$\n",
    "c_n = \\frac{1}{T_p}\\,\\int_0^{T_p} x(t)\\,e^{-\\mathrm{i}\\,2\\pi\\,n\\,t/T_p}\\,\\mathrm{d}t\n",
    "$$\n"
   ]
  },
  {
   "cell_type": "markdown",
   "id": "0a66e9b2-6154-4b19-8f4d-85504deca904",
   "metadata": {},
   "source": [
    "Izračunamo Fourierov koeficient za frekvenco `fr`:"
   ]
  },
  {
   "cell_type": "code",
   "execution_count": 7,
   "id": "124fd5de-e9d3-4062-9da1-2f86f085ad36",
   "metadata": {},
   "outputs": [
    {
     "data": {
      "text/latex": [
       "$\\displaystyle - \\frac{i}{2}$"
      ],
      "text/plain": [
       "-I/2"
      ]
     },
     "execution_count": 7,
     "metadata": {},
     "output_type": "execute_result"
    }
   ],
   "source": [
    "import sympy as sym\n",
    "\n",
    "t, fr, Tp, A = sym.symbols('t, fr, Tp, A')\n",
    "π = sym.pi\n",
    "i = sym.I\n",
    "\n",
    "podatki = {fr: 5, A:1, Tp:1}\n",
    "\n",
    "x = sym.sin(2*π*fr*t)\n",
    "c = 1/Tp*sym.integrate(x*sym.exp(-i*2*π*fr*t/Tp), (t,0,Tp))\n",
    "\n",
    "c.subs(podatki)"
   ]
  },
  {
   "cell_type": "markdown",
   "id": "5ffb2ee8-02b1-4ae9-8029-58ea56da40df",
   "metadata": {},
   "source": [
    "Do istega rezultata pridemo prek DFT, vendar zadnja časovna točka eksplicitno ni vključena:"
   ]
  },
  {
   "cell_type": "code",
   "execution_count": 9,
   "id": "078ee771-e870-482f-8560-9011279dd0ee",
   "metadata": {},
   "outputs": [],
   "source": [
    "import numpy as np\n",
    "\n",
    "A = 1\n",
    "fr = 5\n",
    "fs = 100 \n",
    "N = 100\n",
    "# spodnja fs rezultira v vključenost zadnje točke. Rezultat bo napačen!\n",
    "#fs = 100/1.01010101010101\n",
    "dt = 1/fs\n",
    "t = np.arange(100)*dt\n",
    "x = A*np.sin(2*np.pi*fr*t)\n",
    "\n",
    "X_r = np.fft.rfft(x)\n",
    "freq_r = np.fft.rfftfreq(len(x), d=dt)"
   ]
  },
  {
   "cell_type": "code",
   "execution_count": 10,
   "id": "838accb2-b9c8-4fec-ab29-f2ef94d2e1b5",
   "metadata": {},
   "outputs": [
    {
     "data": {
      "text/plain": [
       "array([-1.49438567e-16-0.5j])"
      ]
     },
     "execution_count": 10,
     "metadata": {},
     "output_type": "execute_result"
    }
   ],
   "source": [
    "c = X_r[freq_r==fr] / len(x)\n",
    "c"
   ]
  },
  {
   "cell_type": "markdown",
   "id": "7b6c8b31-85ca-4279-87a2-ec965e2d5215",
   "metadata": {},
   "source": [
    "Prepričajmo se, da zadnja časovna točka eksplicitno ni vključena:"
   ]
  },
  {
   "cell_type": "code",
   "execution_count": 11,
   "id": "d23c269e-9c0a-455b-8042-272b52b0729a",
   "metadata": {},
   "outputs": [
    {
     "data": {
      "text/plain": [
       "array([0.97, 0.98, 0.99])"
      ]
     },
     "execution_count": 11,
     "metadata": {},
     "output_type": "execute_result"
    }
   ],
   "source": [
    "t[-3:]"
   ]
  },
  {
   "cell_type": "markdown",
   "id": "e289c8da-710b-44b5-b7ef-96c4b4caa9b5",
   "metadata": {},
   "source": [
    "Če v kodi zgoraj spremenimo `fs` ali število točk tako, da je zadnja točka eksplicitno vključena, rezultat ne bo enak tistemu iz Fourierovih vrst!"
   ]
  },
  {
   "cell_type": "markdown",
   "id": "444b69e7-5b08-4d25-8a99-5ea15eb659e6",
   "metadata": {},
   "source": [
    "## Frekvenčna ločljivost in dodajanje ničel"
   ]
  },
  {
   "cell_type": "markdown",
   "id": "859faa96-21ed-401e-b017-afbc19a05ac0",
   "metadata": {},
   "source": [
    "Frekvenčna ločljivost DFT je definirana z dolžino diskretne časovne vrste $x_i=x(\\Delta t\\,i)$, kjer je $\\Delta t$ konstanten časovni korak, $i=0,1,\\dots,N-1$; dolžina take vrste je torej $T_p=N\\,\\Delta t$, zato sledi, da je frekvenčna ločljivost:\n",
    "\n",
    "$$\n",
    "\\Delta f= \\frac{1}{N\\,\\Delta t}.\n",
    "$$"
   ]
  },
  {
   "cell_type": "markdown",
   "id": "9a535ac0-d537-4dbc-a667-c36d5d63497f",
   "metadata": {},
   "source": [
    "Z daljšo časovno vrsto, bi lahko imeli tudi boljšo frekvenčno ločljivost. Kadar dodatnih točk diskretne vrste ne moremo pridobiti, lahko frekvenčno ločljivost povečamo z dodajanjem ničel:\n",
    "\n",
    "$$\n",
    "\\tilde{x}_n=\n",
    "\\begin{cases}\n",
    "x_n;\\quad & 0\\le n\\le N-1\\\\\n",
    "0;\\quad & N\\le n\\le L-1\n",
    "\\end{cases}\n",
    "$$\n",
    "\n",
    "sledi: \n",
    "\n",
    ":::{note}\n",
    "\n",
    "**Diskretna Fourierova transformacija z dodajanjem ničel** (ang. *zero-padding*):\n",
    "\n",
    "$$\n",
    "\\tilde{X}_k = \\sum_{n=0}^{L-1} \\tilde{x}_n\\,e^{-\\mathrm{i}\\,2\\pi\\,k\\,n/L}\n",
    "= \\sum_{n=0}^{N-1} \\tilde{x}_n\\,e^{-\\mathrm{i}\\,2\\pi\\,k\\,n/L}.\n",
    "$$\n",
    "\n",
    ":::"
   ]
  },
  {
   "cell_type": "markdown",
   "id": "dd500e81-b01a-41ef-8ee9-12db2599b9c7",
   "metadata": {},
   "source": [
    "Na takšen pridobimo frekvenčno ločjivost:\n",
    "\n",
    "$$\n",
    "\\Delta f = \\frac{1}{L\\,\\Delta t},\n",
    "$$\n",
    "\n",
    "pri tem pa je treba poudariti, da gre samo za frekvenčno interpolacijo, ki nam omogoča bolj podroben vpogled; novih informacij z dodajanjem ničel ne dodajamo. Podobno kakor pri DFT, lahko ničle dodajamo v frekvenčni domeni in nato z inverzno diskretno Fourierovo transformacijo pridobimo bolj goste oz interpolirane časovne podatke.\n",
    "\n",
    "Pri dodajanju ničel je potrebno paziti na normiranje podatkov (TBA).\n",
    "\n",
    "Spodnji primer prikazuje uporabo dodajanja ničel; s pomočjo komentarjev v kodi raziščite delovanje."
   ]
  },
  {
   "cell_type": "code",
   "execution_count": 20,
   "id": "9dd83a45-c823-4890-b04c-1d15bdc6b913",
   "metadata": {
    "tags": [
     "hide-input"
    ]
   },
   "outputs": [
    {
     "data": {
      "image/png": "[encoded data removed]",
      "text/plain": [
       "<Figure size 432x288 with 1 Axes>"
      ]
     },
     "metadata": {
      "needs_background": "light"
     },
     "output_type": "display_data"
    },
    {
     "data": {
      "image/png": "[encoded data removed]",
      "text/plain": [
       "<Figure size 432x288 with 1 Axes>"
      ]
     },
     "metadata": {
      "needs_background": "light"
     },
     "output_type": "display_data"
    }
   ],
   "source": [
    "import numpy as np\n",
    "import matplotlib.pyplot as plt\n",
    "\n",
    "\n",
    "A = 1\n",
    "fr = 5\n",
    "fs = 100 \n",
    "N = 25 # tukaj poskusite z 20 (sinusuida se zaključi; rezultat brez dodajanja niče je točen!)\n",
    "k = 10 # dodajanje ničel\n",
    "dt = 1/fs\n",
    "t = np.arange(N)*dt\n",
    "x = A*np.sin(2*np.pi*fr*t)\n",
    "\n",
    "X = np.fft.fft(x)\n",
    "freq = np.fft.fftfreq(len(x), d=dt)\n",
    "\n",
    "X_kx = np.fft.fft(x, n=k*N)\n",
    "freq_kx = np.fft.fftfreq(k*N, d=dt)\n",
    "\n",
    "\n",
    "plt.title('Časovna domena')\n",
    "plt.plot(t, x, '.')\n",
    "plt.xlabel('Čas [s]')\n",
    "plt.ylabel('$x$')\n",
    "plt.show()\n",
    "\n",
    "plt.title('Frekvenčna domena - amplitudni spekter')\n",
    "plt.plot(freq_kx, np.abs(X_kx), '.', label=f'{k}x dodajanje ničel')\n",
    "plt.plot(freq, np.abs(X), '.', label='Brez dodajanja ničel')\n",
    "plt.xlabel(f'Frekvenca [Hz], $\\Delta f=${1/(N*dt):3.2f}')\n",
    "plt.ylabel('$X$')\n",
    "plt.legend()\n",
    "plt.show()"
   ]
  },
  {
   "cell_type": "markdown",
   "id": "1ed3bbfc-b186-4fc7-bd60-7d103fdc4ac5",
   "metadata": {
    "tags": [
     "hide-input"
    ]
   },
   "source": [
    "## Simetrija DFT za realne podatke\n",
    "\n",
    ":::{note}\n",
    "\n",
    "Za realne podatke v frekvenčni domeni velja:\n",
    "\n",
    "$$\n",
    "\\begin{split}\n",
    "\\textrm{Re}\\big(X(k)\\big)&=\\textrm{Re}\\big(X(N-k)\\big)\\\\\n",
    "\\textrm{Im}\\big(X(k)\\big)&=-\\textrm{Im}\\big(X(N-k)\\big)\\\\\n",
    "|X(k)|&=|X(N-k)|\\\\\n",
    "\\angle X(k)&=\\angle X(N-k)\n",
    "\\end{split}\n",
    "$$\n",
    "\n",
    ":::\n"
   ]
  },
  {
   "cell_type": "markdown",
   "id": "19000331-d79e-4a0e-bcd7-095923ae79e1",
   "metadata": {},
   "source": [
    "Ker je večina inženirskih podatkov v časovni domeni realnih, je smiselno, da se uporabi ustrezno prilagojena metoda hitre Fourierove transformacije; ta se v paketu `numpy` dostopa prek klica `numpy.fft.rfft()`. Inverzna DFT je dosegljiva prek metod `numpy.fft.ifft` oz. `numpy.fft.irfft` v primer realnih podatkov v časovni domeni.\n",
    "\n",
    "Navedene lastnosti preverimo na kodi v paketu `numpy` (opomba: k časovnim signalom dodamo šum, da ni faza zelo blizu 0):"
   ]
  },
  {
   "cell_type": "code",
   "execution_count": 13,
   "id": "ebec668e-4e37-4ffa-bb4c-c7ab2f4c809c",
   "metadata": {},
   "outputs": [],
   "source": [
    "import numpy as np\n",
    "\n",
    "A = 1\n",
    "fr = 5\n",
    "fs = 100 \n",
    "N = 10\n",
    "dt = 1/fs\n",
    "t = np.arange(N)*dt\n",
    "np.random.seed(0)\n",
    "x = A*np.sin(2*np.pi*fr*t) + np.random.normal(scale=A/2, size=N)\n",
    "\n",
    "X = np.fft.fft(x)\n",
    "freq = np.fft.fftfreq(len(x), d=dt)\n",
    "\n",
    "X_r = np.fft.rfft(x)\n",
    "freq_r = np.fft.rfftfreq(len(x), d=dt)\n",
    "\n",
    "np.testing.assert_allclose(freq[1:N//2], -freq[:N//2:-1])\n",
    "np.testing.assert_allclose(np.real(X[1:N//2]), np.real(X[:N//2:-1]))\n",
    "np.testing.assert_allclose(np.imag(X[1:N//2]), -np.imag(X[:N//2:-1]))\n",
    "\n",
    "np.testing.assert_allclose(np.abs(freq[:N//2+1]), freq_r)\n",
    "np.testing.assert_allclose(np.real(X[:N//2+1]), np.real(X_r))\n",
    "np.testing.assert_allclose(np.imag(X[:N//2+1]), np.imag(X_r), atol=1e-15)"
   ]
  },
  {
   "cell_type": "markdown",
   "id": "73515fbf-2ceb-4e58-a79e-8415dd4f2998",
   "metadata": {},
   "source": [
    "Še primer od zgoraj z `numpy.fft.rfft()`:"
   ]
  },
  {
   "cell_type": "code",
   "execution_count": 21,
   "id": "400da302-6468-44e3-a94c-182b29d29345",
   "metadata": {
    "tags": [
     "hide-input"
    ]
   },
   "outputs": [
    {
     "data": {
      "image/png": "[encoded data removed]",
      "text/plain": [
       "<Figure size 432x288 with 1 Axes>"
      ]
     },
     "metadata": {
      "needs_background": "light"
     },
     "output_type": "display_data"
    },
    {
     "data": {
      "image/png": "[encoded data removed]",
      "text/plain": [
       "<Figure size 432x288 with 1 Axes>"
      ]
     },
     "metadata": {
      "needs_background": "light"
     },
     "output_type": "display_data"
    }
   ],
   "source": [
    "import numpy as np\n",
    "import matplotlib.pyplot as plt\n",
    "\n",
    "\n",
    "A = 1\n",
    "fr = 5\n",
    "fs = 100 \n",
    "N = 25 # tukaj poskusite z 20 (sinusuida se zaključi; rezultat brez dodajanja niče je točen!)\n",
    "k = 10 # dodajanje ničel\n",
    "dt = 1/fs\n",
    "t = np.arange(N)*dt\n",
    "x = A*np.sin(2*np.pi*fr*t)\n",
    "\n",
    "X = np.fft.rfft(x)\n",
    "freq = np.fft.rfftfreq(len(x), d=dt)\n",
    "\n",
    "X_kx = np.fft.rfft(x, n=k*N)\n",
    "freq_kx = np.fft.rfftfreq(k*N, d=dt)\n",
    "\n",
    "\n",
    "plt.title('Časovna domena')\n",
    "plt.plot(t, x, '.')\n",
    "plt.xlabel('Čas [s]')\n",
    "plt.ylabel('$x$')\n",
    "plt.show()\n",
    "\n",
    "plt.title('Frekvenčna domena - amplitudni spekter')\n",
    "plt.plot(freq_kx, np.abs(X_kx), '.', label=f'{k}x dodajanje ničel')\n",
    "plt.plot(freq, np.abs(X), '.', label='Brez dodajanja ničel')\n",
    "plt.xlabel(f'Frekvenca [Hz], $\\Delta f=${1/(N*dt):3.2f}')\n",
    "plt.ylabel('$X$')\n",
    "plt.legend()\n",
    "plt.show()"
   ]
  },
  {
   "cell_type": "markdown",
   "id": "19c11afb-ef9e-458e-9fd5-8d1ec8415530",
   "metadata": {},
   "source": [
    "(sec:krozna_konvolucija)_\n",
    "## Konvolucija periodičnih podatkov\n",
    "\n",
    "Konvolucijo funkcij v primeru Fourierove integralske transformacije smo obravnavali v poglavju {ref}`sec:konvolucija_funkcij`, tukaj si bomo pogledali posebnosti pri obravnavi dveh periodičnih vrst (glejte: {ref}`DFT_periodicno` ) enake dolžine: $x_n$ in $y_n$:\n"
   ]
  },
  {
   "cell_type": "markdown",
   "id": "d04c7e62-9a52-4469-b205-f691fe95496b",
   "metadata": {},
   "source": [
    "$$\n",
    "X_k = \\sum_{n=0}^{N-1} x_n\\,e^{-\\mathrm{i}\\,2\\pi\\,k\\,n/N},\n",
    "$$\n",
    "\n",
    "\n",
    "$$\n",
    "Y_k = \\sum_{n=0}^{N-1} y_n\\,e^{-\\mathrm{i}\\,2\\pi\\,k\\,n/N},\n",
    "$$"
   ]
  },
  {
   "cell_type": "markdown",
   "id": "2ba9ec20-92e2-422d-bb78-3883b860377c",
   "metadata": {},
   "source": [
    "Podobno kakor za funkcije, velja tudi za periodične časovne vrste, da je DFT konvolucije v časovni domeni produkt frekvenčnih transformirank v frekvenčni domeni.\n",
    "\n",
    ":::{note}\n",
    "\n",
    "Konvolucija periodičnih podatkov (tudi krožna konvolucija, ang. *circular convolution*):\n",
    "\n",
    "$$\n",
    "\\textrm{DFT}\\big\\{x_n*y_n\\big\\}=X_k\\,Y_k,\n",
    "$$\n",
    "\n",
    "Da se poudari, da gre za krožno konvolucijo, se kdaj uporabi tudi znak $\\circledast$: $x_n\\circledast y_n$.\n",
    "\n",
    ":::"
   ]
  },
  {
   "cell_type": "markdown",
   "id": "8785fa68-157d-42aa-8367-fd80cbae5be5",
   "metadata": {},
   "source": [
    "Poudarjanje periodičnosti $x_n$ n $y_n$ je nujno sicer (krožna) konvolucija ni mogoča; to bo jasno iz sledeče izpeljave:\n",
    "\n",
    "$$\n",
    "\\begin{split}\n",
    "\\textrm{DFT}\\big\\{x_n\\circledast y_n\\big\\}&=\\textrm{DFT}\\big\\{\\sum_r^{N-1}x_r\\,y_{n-r}\\big\\}\\\\\n",
    "&=\\sum_n^{N-1}\\sum_r^{N-1}x_r\\,y_{n-r}\\,e^{-\\textrm{i}\\,2\\,\\pi\\,n\\,k/N}\\\\\n",
    "&=\\underbrace{\\sum_r^{N-1}x_r\\,\\,e^{-\\textrm{i}\\,2\\,\\pi\\,r\\,k/N}}_{X_k}\\,\\underbrace{\\sum_n^{N-1}y_{n-r}\\,e^{-\\textrm{i}\\,2\\,\\pi\\,(n-r)\\,k/N}}_{Y_k}\\\\\n",
    "&=X_k\\,Y_k\n",
    "\\end{split}\n",
    "$$"
   ]
  },
  {
   "cell_type": "markdown",
   "id": "af0944c0-340a-4021-a52e-8c20e95e6853",
   "metadata": {},
   "source": [
    "Pri zgornji izpeljavi je treba poudariti, da vsota po $r$ v predzadnji vrstici vključuje tudi vsoto po $n$, ker pa je vsota po $n$ zaradi periodičnosti neodvisna od $r$, se lahko vsoti po $r$ in $n$ izvedeta neodvisno. Zaradi periodičnosti $y_n$, za vsak $r$ torej velja:\n",
    "\n",
    "$$\n",
    "\\sum_n^{N-1}y_{n-r}\\,e^{-\\textrm{i}\\,2\\,\\pi\\,(n-r)\\,k/N}=\\sum_n^{N-1}y_{n}\\,e^{-\\textrm{i}\\,2\\,\\pi\\,n\\,k/N}=Y_k\n",
    "$$\n",
    "\n",
    "\n",
    "Če vrsti $x_n$ in $y_n$ ne bi bili periodični, konvolucija končnih vrst ne bi bila tako enostavna."
   ]
  }
 ],
 "metadata": {
  "kernelspec": {
   "display_name": "Python 3 (ipykernel)",
   "language": "python",
   "name": "python3"
  },
  "language_info": {
   "codemirror_mode": {
    "name": "ipython",
    "version": 3
   },
   "file_extension": ".py",
   "mimetype": "text/x-python",
   "name": "python",
   "nbconvert_exporter": "python",
   "pygments_lexer": "ipython3",
   "version": "3.10.6"
  }
 },
 "nbformat": 4,
 "nbformat_minor": 5
}
