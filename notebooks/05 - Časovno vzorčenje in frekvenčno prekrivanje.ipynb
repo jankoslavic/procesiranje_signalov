{
 "cells": [
  {
   "cell_type": "markdown",
   "id": "69f3ed15",
   "metadata": {},
   "source": [
    "# Enakomerno časovno vzorčenje in frekvenčno prekrivanje"
   ]
  },
  {
   "cell_type": "markdown",
   "id": "7f59ccdf-2d86-4876-87f9-470148d5d715",
   "metadata": {},
   "source": [
    "Doslej smo obravnavali zvezne podatke $x(t)$, pri eksperimentalnem delu pa se skoraj vedno srečamo s diskretnimi vrednostmi, ki so tipično zajeti z enakomernim časovnim vzorčenje $x(n\\,\\Delta t)$, kjer je $\\Delta t$ **čas (perioda) vzorčenja** ($f_s=1/\\Delta t$ je **frekvenca vzorčenja**). \n",
    "\n",
    "Pri razumevanju vzorčenih podatkov si pomagamo z *idealnim enakomerno vzorčenimi podatki* $x_s(t)$, ki so produkt zveznih podatkov $x(t)$ in vlaka impulzov $i(t)$:\n",
    "\n",
    "$$\n",
    "x_s(t)=x(t)\\,i(t),\n",
    "$$\n",
    "\n",
    "kjer je:\n",
    "\n",
    "$$\n",
    "i(t)= \\sum_{n=-\\infty}^{+\\infty}\\delta(t-n\\,\\Delta t)\n",
    "$$\n",
    "\n",
    "Fourierova transformacija $x_s(t)$ je:\n",
    "\n",
    "$$\n",
    "\\begin{split}\n",
    "X_s(f)&=\\int_{-\\infty}^{+\\infty} x(t)\\,\\sum_{n=-\\infty}^{+\\infty}\\delta(t-n\\,\\Delta t)\\,e^{-\\textrm{i}\\,2\\pi\\,f\\,t}\\,\\textrm{d} t,\\\\\n",
    "&=\\sum_{n=-\\infty}^{+\\infty}\\,\\int_{-\\infty}^{+\\infty} x(t)\\,e^{-\\textrm{i}\\,2\\pi\\,f\\,t}\\,\\delta(t-n\\,\\Delta t)\\,\\textrm{d} t,\\\\\n",
    "&=\\sum_{n=-\\infty}^{+\\infty}\\,x(n\\,\\Delta t)\\,e^{-\\textrm{i}\\,2\\pi\\,f\\,n\\,\\Delta t}.\n",
    "\\end{split}\n",
    "$$"
   ]
  },
  {
   "cell_type": "markdown",
   "id": "6f97e481-0138-48a0-bba6-d3517449dd4c",
   "metadata": {},
   "source": [
    "Kjer smo v prehodu v zadnjo vrstico uporabili sejalno lastnost Diracove delta funkcije (glejte {ref}`sec:dirac_lastnosti`)."
   ]
  },
  {
   "cell_type": "markdown",
   "id": "a8581674-c853-4c63-a817-fe6d93de175b",
   "metadata": {},
   "source": [
    "Fourierova transformacija $X_s(f)$ se ponavlja (je periodična) s frekvenco $1/\\Delta t$, to dokažemo tako:\n",
    "\n",
    "$$\n",
    "\\begin{split}\n",
    "X_s(f+r/\\Delta t)&=\\sum_{n=-\\infty}^{+\\infty}\\,x(n\\,\\Delta t)\\,e^{-\\textrm{i}\\,2\\pi\\,(f+r/\\Delta t)\\,n\\,\\Delta t},\\\\\n",
    "&=\\sum_{n=-\\infty}^{+\\infty}\\,x(n\\,\\Delta t)\\,e^{-\\textrm{i}\\,2\\pi\\,f\\,n\\,\\Delta t}\\,\\underbrace{e^{-\\textrm{i}\\,2\\pi\\,r\\,n}}_{=1},\\\\\n",
    "&=\\sum_{n=-\\infty}^{+\\infty}\\,x(n\\,\\Delta t)\\,e^{-\\textrm{i}\\,2\\pi\\,f\\,n\\,\\Delta t},\\\\\n",
    "&=X_s(f),\n",
    "\\end{split}\n",
    "$$\n",
    "\n",
    "kjer je $r$ poljubno celo število. Sklenemo torej:\n",
    "\n",
    ":::{note}\n",
    "\n",
    "**Fourierova transformacija** podatkov $x(t)$ vzorčenih s periodo $\\Delta t$ je definirana kot vsota:\n",
    "\n",
    "$$\n",
    "X_s(f)=\\sum_{n=-\\infty}^{+\\infty}\\,x(n\\,\\Delta t)\\,e^{-\\textrm{i}\\,2\\pi\\,f\\,n\\,\\Delta t}\n",
    "$$\n",
    "\n",
    "in je v frekvenčni domeni periodična s frekvenco $1/\\Delta t$:\n",
    "\n",
    "$$\n",
    "X_s(f)=X_s(f+r/\\Delta t), \\qquad \\textrm{kjer je:}\\quad r\\in \\mathbb{Z}.\n",
    "$$\n",
    "\n",
    ":::\n"
   ]
  },
  {
   "cell_type": "markdown",
   "id": "57dda228-24ad-428c-ada7-51ab4268241a",
   "metadata": {},
   "source": [
    "**Inverzno Fourierovo transformacijo** dobimo tako, izraz v frekvenčni domeni pomnožimo z $e^{\\textrm{i}\\,2\\pi\\,f\\,p\\,\\Delta t}$ in integriramo po frekvenci $f$:\n",
    "\n",
    "$$\n",
    "\\int_{-1/2\\Delta t}^{+1/2\\Delta t}\\,X_s(f)\\,e^{\\textrm{i}\\,2\\pi\\,f\\,p\\,\\Delta t}\\,\\textrm{d}f=\\int_{-1/2\\Delta t}^{+1/2\\Delta t}\\,\\sum_{n=-\\infty}^{+\\infty}\\,x(n\\,\\Delta t)\\,e^{-\\textrm{i}\\,2\\pi\\,f\\,n\\,\\Delta t}\\,e^{\\textrm{i}\\,2\\pi\\,f\\,p\\,\\Delta t}\\,\\textrm{d}f,\n",
    "$$\n",
    "\n",
    "kjer smo integrirali samo po eni periodi v frekvenci (po več ne bi bilo smiselno, saj je $X_s(f)$ periodična funkcija)."
   ]
  },
  {
   "cell_type": "markdown",
   "id": "41ed6455-5e6f-4323-adf7-c117f558a8fe",
   "metadata": {},
   "source": [
    "Zgornji izraz preoblikujemo v:\n",
    "\n",
    "$$\n",
    "\\sum_{n=-\\infty}^{+\\infty}\\,x(n\\,\\Delta t)\\,\\int_{-1/2\\Delta t}^{+1/2\\Delta t}\\,\\underbrace{e^{-\\textrm{i}\\,2\\pi\\,f\\,(n-p)\\,n\\,\\Delta t}}_{=1,\\textrm{ ko je } n=p\\quad\\textrm{sicer: }0}\\,\\textrm{d}f=x(p\\,\\Delta t)\\,\\frac{1}{\\Delta t}.\n",
    "$$\n"
   ]
  },
  {
   "cell_type": "markdown",
   "id": "251b9f3d-2f74-471b-b04a-20f2afdcd8ff",
   "metadata": {},
   "source": [
    "Izpeljali smo torej:\n",
    "\n",
    "$$\n",
    "x(p\\,\\Delta t) = \\Delta t\\,\\int_{-1/2\\Delta t}^{+1/2\\Delta t}\\,X_s(f)\\,e^{\\textrm{i}\\,2\\pi\\,f\\,p\\,\\Delta t}\\,\\textrm{d}f\n",
    "$$\n"
   ]
  },
  {
   "cell_type": "markdown",
   "id": "cf6f0e3a-700c-467d-9cc0-901e96082f8c",
   "metadata": {},
   "source": [
    "## Fourierove vrste in diskretna Fourierova transformacija\n",
    "\n",
    "Pozneje bomo spoznali diskretno Fourierovo transformacijo, ki je z Fourierovimi vrstami zelo povezana. Povezavo lahko hitro razkrijemo, če predpostavimo diskretno časovno vrst $x_i=x(\\Delta t\\,i)$, kjer je $\\Delta t$ konstanten časovni korak, $i=0,1,\\dots,N-1$ in $T_p=N\\,\\Delta t$, sledi: \n",
    "\n",
    "$$\n",
    "\\begin{split}\n",
    "c_n &= \\frac{1}{T_p}\\,\\int_0^{T_p} x(t)\\,e^{-\\mathrm{i}\\,2\\pi\\,n\\,t/T_p}\\,\\mathrm{d}t\\\\\n",
    "&= \\frac{1}{N\\,\\Delta t}\\,\\sum_{i=0}^{N-1} x(i\\,\\Delta t)\\,e^{-\\mathrm{i}\\,2\\pi\\,n\\,\\Delta t\\,i/(N\\,\\Delta t)}\\,\\Delta t\\\\\n",
    "&= \\frac{1}{N}\\,\\underbrace{\\sum_{i=0}^{N-1} x(i\\,\\Delta t)\\,e^{-\\mathrm{i}\\,2\\pi\\,n\\,i/N}}_{X_n}\\\\\n",
    "&= \\frac{X_n}{N}\\\\\n",
    "\\end{split}\n",
    "$$"
   ]
  },
  {
   "cell_type": "markdown",
   "id": "d8e58c02-a13a-478d-92a8-bdb8535a8178",
   "metadata": {},
   "source": [
    ":::{note}\n",
    "**Diskretna Fourierova transformacija** (DFT):\n",
    "$$\n",
    "X_n= \\sum_{i=0}^{N-1} x_i\\,e^{-\\mathrm{i}\\,2\\pi\\,n\\,i/N}\n",
    "$$\n",
    ":::\n",
    "\n",
    ":::{note}\n",
    "**Inverzna diskretna Fourierova transformacija** (IDFT):\n",
    "\n",
    "$$\n",
    "x_i=\\frac{1}{N} \\sum_{n=0}^{N-1} X_n\\,e^{\\mathrm{i}\\,2\\pi\\,n\\,i/N}\n",
    "$$\n",
    ":::\n",
    "\n",
    "Poudarti je treba, da v splošnem $X_n/N\\ne c_n$, saj DFT temelji na končni vrsti in je zato $X_n$ periodična vrsta: $X_n=X_{n+k\\,N}$, kjer je $k$ poljubno celo število."
   ]
  }
 ],
 "metadata": {
  "kernelspec": {
   "display_name": "Python 3 (ipykernel)",
   "language": "python",
   "name": "python3"
  },
  "language_info": {
   "codemirror_mode": {
    "name": "ipython",
    "version": 3
   },
   "file_extension": ".py",
   "mimetype": "text/x-python",
   "name": "python",
   "nbconvert_exporter": "python",
   "pygments_lexer": "ipython3",
   "version": "3.9.4"
  }
 },
 "nbformat": 4,
 "nbformat_minor": 5
}
