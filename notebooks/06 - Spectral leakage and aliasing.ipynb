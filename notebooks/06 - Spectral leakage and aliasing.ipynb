{
 "cells": [
  {
   "cell_type": "markdown",
   "id": "69f3ed15",
   "metadata": {},
   "source": [
    "# Spectral leakage and aliasing"
   ]
  },
  {
   "cell_type": "code",
   "execution_count": null,
   "id": "08fa279d",
   "metadata": {},
   "outputs": [],
   "source": []
  },
  {
   "cell_type": "markdown",
   "id": "cf6f0e3a-700c-467d-9cc0-901e96082f8c",
   "metadata": {},
   "source": [
    "## Fourierove vrste in diskretna Fourierova transformacija\n",
    "\n",
    "Pozneje bomo spoznali diskretno Fourierovo transformacijo, ki je z Fourierovimi vrstami zelo povezana. Povezavo lahko hitro razkrijemo, če predpostavimo diskretno časovno vrst $x_i=x(\\Delta t\\,i)$, kjer je $\\Delta t$ konstanten časovni korak, $i=0,1,\\dots,N-1$ in $T_p=N\\,\\Delta t$, sledi: \n",
    "\n",
    "$$\n",
    "\\begin{split}\n",
    "c_n &= \\frac{1}{T_p}\\,\\int_0^{T_p} x(t)\\,e^{-\\mathrm{i}\\,2\\pi\\,n\\,t/T_p}\\,\\mathrm{d}t\\\\\n",
    "&= \\frac{1}{N\\,\\Delta t}\\,\\sum_{i=0}^{N-1} x(i\\,\\Delta t)\\,e^{-\\mathrm{i}\\,2\\pi\\,n\\,\\Delta t\\,i/(N\\,\\Delta t)}\\,\\Delta t\\\\\n",
    "&= \\frac{1}{N}\\,\\underbrace{\\sum_{i=0}^{N-1} x(i\\,\\Delta t)\\,e^{-\\mathrm{i}\\,2\\pi\\,n\\,i/N}}_{X_n}\\\\\n",
    "&= \\frac{X_n}{N}\\\\\n",
    "\\end{split}\n",
    "$$"
   ]
  },
  {
   "cell_type": "markdown",
   "id": "d8e58c02-a13a-478d-92a8-bdb8535a8178",
   "metadata": {},
   "source": [
    ":::{note}\n",
    "**Diskretna Fourierova transformacija** (DFT):\n",
    "$$\n",
    "X_n= \\sum_{i=0}^{N-1} x_i\\,e^{-\\mathrm{i}\\,2\\pi\\,n\\,i/N}\n",
    "$$\n",
    ":::\n",
    "\n",
    ":::{note}\n",
    "**Inverzna diskretna Fourierova transformacija** (IDFT):\n",
    "\n",
    "$$\n",
    "x_i=\\frac{1}{N} \\sum_{n=0}^{N-1} X_n\\,e^{\\mathrm{i}\\,2\\pi\\,n\\,i/N}\n",
    "$$\n",
    ":::\n",
    "\n",
    "Poudarti je treba, da v splošnem $X_n/N\\ne c_n$, saj DFT temelji na končni vrsti in je zato $X_n$ periodična vrsta: $X_n=X_{n+k\\,N}$, kjer je $k$ poljubno celo število."
   ]
  }
 ],
 "metadata": {
  "kernelspec": {
   "display_name": "Python 3 (ipykernel)",
   "language": "python",
   "name": "python3"
  },
  "language_info": {
   "codemirror_mode": {
    "name": "ipython",
    "version": 3
   },
   "file_extension": ".py",
   "mimetype": "text/x-python",
   "name": "python",
   "nbconvert_exporter": "python",
   "pygments_lexer": "ipython3",
   "version": "3.9.4"
  }
 },
 "nbformat": 4,
 "nbformat_minor": 5
}
