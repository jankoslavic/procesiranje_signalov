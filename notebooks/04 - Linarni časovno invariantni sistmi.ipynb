{
 "cells": [
  {
   "cell_type": "markdown",
   "id": "b12c0038",
   "metadata": {},
   "source": [
    "(sec:LTI)=\n",
    "# Linearni časovno invariantni sistemi z eno prostostno stopnjo"
   ]
  },
  {
   "cell_type": "markdown",
   "id": "7937b5c4-2a8b-4a9b-b3cb-9ed803e6f89c",
   "metadata": {},
   "source": [
    "Sistema z eno prostostno stopnjo (ang. single degree of freedom system - SDOF) lahko opišemo z nehomogeno diferencialno enačbo drugega reda:\n",
    "$$\n",
    "m\\,\\ddot{x}(t)+c\\,\\dot{x}(t)+k\\,x(t)=f(t),\n",
    "$$"
   ]
  },
  {
   "cell_type": "markdown",
   "id": "396bd569-4c9c-4edb-affc-8dc159e0f7f0",
   "metadata": {},
   "source": [
    "kjer je $f(t)$ vzbujevalna sila. Rešitev nehomogone enačbe je v obliki:\n",
    "\n",
    "$$\n",
    "x(t) = x_{h}(t) + x_{p}(t),\n",
    "$$\n",
    "\n",
    "kjer je $x_{p}$ partikularna in $x_{h}$ homogena rešitev."
   ]
  },
  {
   "cell_type": "markdown",
   "id": "dcd42bbb-d88b-4367-9767-a7f4cc042c6c",
   "metadata": {},
   "source": [
    "## Prosti odziv (homogena rešitev)\n",
    "\n",
    "Če vzbujevalne sile ni $f(t)=0$, je homogena rešitev pridobljena iz:\n",
    "\n",
    "$$\n",
    "m\\,\\ddot{x}_{h}(t)+c\\,\\dot{x}_{h}(t)+k\\,x_{h}(t)=0.\n",
    "$$\n",
    "\n",
    "Uporabimo nastevek za rešitev $x_{h}(t)$:\n",
    "\n",
    "$$\n",
    "x_{h}(t)=X_{h}\\,e^{\\lambda \\,t},\n",
    "$$\n",
    "\n",
    "kjer sta amplituda premika $X_{h}$ in lastna vrednost $\\lambda$ neznani (in ju je treba določiti). Vstavimo nastavek v diferencialno enačbo:\n",
    "\n",
    "$$\n",
    "\\lambda^2\\,m\\,X_{h}\\,e^{\\lambda \\,t}+\\lambda\\,c\\,X_{h}\\,e^{\\lambda \\,t}+k\\,X_{h}\\,e^{\\lambda \\,t}=0.\n",
    "$$"
   ]
  },
  {
   "cell_type": "markdown",
   "id": "e29ff358-b52c-44bf-8664-007de0e1a74e",
   "metadata": {},
   "source": [
    "Izraz uredimo:\n",
    "\n",
    "$$\n",
    "\\left(\\lambda^2\\,m+\\lambda\\,c+k\\right)\\,X_{h}\\,e^{\\lambda \\,t}=0.\n",
    "$$\n",
    "\n",
    "Netrivialno ($X_{h}\\,e^{\\lambda \\,t}\\neq0$) rešitev določimo na podlagi karakteristične enačbe:\n",
    "\n",
    "$$\n",
    "\\lambda^2\\,m+\\lambda\\,c+k=0.\n",
    "$$\n",
    "\n",
    "Rešitev karakteristične enačbe je:\n",
    "\n",
    "$$\n",
    "\\lambda_{1,2}=-\\frac{c}{2\\,m} \\pm \\frac{\\sqrt{c^2-4\\,k\\,m}}{2\\,m},\n",
    "$$\n",
    "\n",
    "kjer sta $\\lambda_{1,2}$ lastni vrednosti sistema (v splošnem kompleksno število).\n"
   ]
  },
  {
   "cell_type": "markdown",
   "id": "ecf2717d-bb62-4b14-a58c-42536233784d",
   "metadata": {},
   "source": [
    "Glede na razmerje med vztrajnostno, elastično in dušilno silo je rešitev:\n",
    "\n",
    "* **nadkritično dušeno**: če sile dušenja prevladajo nad vztrajnostnimi in prožnostnimi sile ($c^2\\geq 4\\,k\\,m$),\n",
    "* **kritično dušeno**: če so sile dušenja enake vztrajnostnim in prožnostnim silam ($c^2=4\\,k\\,m$),\n",
    "* **podkritično dušeno**: če vztrajnostne in prožnostne sile prevladajo nad dušilnimi ($c^2\\leq 4\\,k\\,m$)."
   ]
  },
  {
   "cell_type": "markdown",
   "id": "4d08aaf9-3cb0-4d2d-9743-b47a7c569c85",
   "metadata": {},
   "source": [
    "V primeru nadkritično in kritično dušenega sistema je rešitev v realni obliki in gibanje ni oscilatorno.\n",
    "\n",
    "V okviru te knjige se  osredotočamo na podkritično dušen primer, ko so kompleksne lastne vrednosti konjugirani pari. Masa $m$, dušenje $c$ in togost $k$ pa definirajo nedušeno lastno krožno frekvenco (tudi resonančna frekvenca, lastna frekvenca):\n",
    "\n",
    "$$\n",
    "\\omega_0 = \\sqrt{\\frac{k}{m}}.\n",
    "$$\n",
    "\n",
    "Tukaj je pomembno omeniti, da pri linearnih sistemih prednapetje ne spremeni lastne frekvence."
   ]
  },
  {
   "cell_type": "markdown",
   "id": "ca56184c-ca0b-40ab-9b20-418850f652ce",
   "metadata": {},
   "source": [
    "Nadalje, če je kritično dušenje opredeljeno kot:\n",
    "\n",
    "$$\n",
    "c_{c} = 2\\,\\sqrt{k\\,m},\n",
    "$$\n",
    "\n",
    "potem je dušenje mogoče definirati s pomočjo razmernika dušenja:\n",
    "\n",
    "$$\n",
    "\\delta = \\frac{c}{c_{c}}.\n",
    "$$"
   ]
  },
  {
   "cell_type": "markdown",
   "id": "712f03fa-a15e-4855-a567-479e6903ba07",
   "metadata": {},
   "source": [
    "Z nezadušeno lastno frekvenco $\\omega_0$ in razmernika dušenja $\\delta$ lahko homogeno diferencialno enačbo prepišemo v standardno obliko:\n",
    "\n",
    "$$\n",
    "\\ddot{x}_{h}(t)+2\\,\\delta\\,\\omega_0\\,\\dot{x}_{h}(t)+\\omega_0^2\\,x_{h}(t) =0.\n",
    "$$\n",
    "\n",
    "Nadalje lahko $\\omega_0$ in $\\delta$ vstavite v izraz za lastne vrednosti:\n",
    "\n",
    "$$\n",
    "\\lambda_{1,2}=-\\delta\\, \\omega_0 \\pm \\mathrm{i}\\,\\omega_{d},\n",
    "$$\n",
    "\n",
    "kje se:\n",
    "\n",
    "$$\n",
    "\\omega_{d} = \\omega_0\\,\\sqrt{1-\\delta^2}\n",
    "$$\n",
    "\n",
    "imenuje dušena lastna krožna frekvenca."
   ]
  },
  {
   "cell_type": "markdown",
   "id": "31708920-abc7-46dd-a481-356e33acc362",
   "metadata": {},
   "source": [
    "Izpeljane lastne vrednosti vstavimo v nastavek za homogeno rešitev $x_{h}(t)$. Ker imamo dve lastni vrednosti, je splošna rešitev vsota obeh:\n",
    "\n",
    "$$\n",
    "\\begin{split}\n",
    "     x_{h}(t)&=X_{h,1}\\,e^{\\lambda_1 \\,t}+X_{h,2}\\,e^{\\lambda_2 \\,t}\\\\\n",
    "     &=e^{-\\delta\\, \\omega_0\\,t}\\,\n",
    "     \\big(\n",
    "     X_{h,1}\\,e^{+ \\mathrm{i}\\, \\omega_{d}\\,t}+X_{h,2}\\,e^{- \\mathrm{i}\\, \\omega_ {d} \\,t}\n",
    "     \\big),\n",
    "\\end{split}\n",
    "$$\n",
    "\n",
    "kjer sta konstanti $X_{h,1}$ in $X_{h,2}$ odvisni od začetnih pogojev."
   ]
  },
  {
   "cell_type": "markdown",
   "id": "df3cf5a9-5645-4720-b3f2-4fe22a54e7ee",
   "metadata": {},
   "source": [
    "Kasneje bo jasno, da so začetni pogoji, pri katerih sistem začne iz ravnotežja s hitrostjo, ki ni nič:\n",
    "\n",
    "$$\n",
    "\\begin{aligned}\n",
    "\t\tx(0)&=0\\to& X_{h,1}+X_{h,2}&=0\\\\\n",
    "\t\t\\dot x(0)&=\\dot x_0\\to& X_{h,1}\\,\\lambda_1+X_{h,2}\\,\\lambda_2&=\\dot x_0\n",
    "\t\\end{aligned}\n",
    "$$\n",
    "\n",
    "še posebej pomembne in vodijo v rešitev:\n",
    "\n",
    "$$\n",
    "x_{h}(t)=\\frac{\\dot x_0}{\\omega_{d}}\\,e^{-\\delta\\,\\omega_0\\,t}\\,\\sin(\\omega_{d}\\,t).\n",
    "$$\n",
    "\n",
    "\n",
    "Odziv je sestavljen iz ovojnice ${\\dot x_0}/{\\omega_{d}}\\,\\exp(-\\delta\\, \\omega_0\\,t)$, za katero je značilna stopnja razpada $\\delta\\, \\omega_0$ in nihajoči del $\\sin(\\omega_{d}\\,t)$, glejte sliko spodaj."
   ]
  },
  {
   "cell_type": "code",
   "execution_count": 16,
   "id": "a43351f9-a1e1-4d92-b37f-f79466c5abfd",
   "metadata": {
    "tags": [
     "hide-input"
    ]
   },
   "outputs": [
    {
     "data": {
      "image/png": "[encoded data removed]",
      "text/plain": [
       "<Figure size 432x288 with 1 Axes>"
      ]
     },
     "metadata": {
      "needs_background": "light"
     },
     "output_type": "display_data"
    }
   ],
   "source": [
    "import sympy as sym\n",
    "t, ω_0, ω_d, d_x_0, δ= sym.symbols('t, \\omega_0, \\omega_d, d_x_0, \\delta', real=True)\n",
    "podatki = {ω_0: 1, d_x_0: 1, δ: 0.1}\n",
    "\n",
    "ω_d = ω_0 * sym.sqrt(1-δ**2)\n",
    "\n",
    "ovojnica = d_x_0/ω_d * sym.exp(-δ*ω_0*t)\n",
    "\n",
    "x = ovojnica * sym.sin(ω_d*t)\n",
    "\n",
    "p1 = sym.plot(ovojnica.subs(podatki), (t,0,50), line_color='C0', xlabel='$t$ [s]', ylabel='$x_h(t)$', title='Časovna domena',\n",
    "             label='Ovojnica', show=False)\n",
    "p2 = sym.plot(x.subs(podatki), (t,0,50), line_color='C1', \n",
    "             label='$x_h(t)$', show=False)\n",
    "p1.extend(p2)\n",
    "p1.legend = True\n",
    "p1.show()"
   ]
  },
  {
   "cell_type": "markdown",
   "id": "e71b9384-8516-4fad-8afd-d2a65299da9a",
   "metadata": {},
   "source": [
    "## Harmonsko vzbujanje"
   ]
  },
  {
   "cell_type": "markdown",
   "id": "28c5ac0e-d3d0-4300-8f34-789269f68eaa",
   "metadata": {},
   "source": [
    "Nadaljujemo z rešitvijo gibalne enačbe za primer harmonskega vzbujanja:\n",
    "\n",
    "$$\n",
    "\tf(t)=F\\,e^{ \\mathrm{i}\\,\\omega\\,t}=F\\,\\underbrace{\\big(\\cos(\\omega\\,t)+ \\mathrm{i}\\,\\sin(\\omega\\,t)\\big)}_{e^{ \\mathrm{i}\\,\\omega\\,t}},\n",
    "$$\n",
    "\n",
    "kjer je $F$ amplituda sile (v splošnem kompleksna vrednost) in $\\omega$ krožna frekvenca vzbujanja. \n"
   ]
  },
  {
   "cell_type": "markdown",
   "id": "eca8a037-f4eb-4e69-98bb-efd2050b30bd",
   "metadata": {},
   "source": [
    "Partikulano rešitev $x_p(t)$ določimo iz enačbe:\n",
    "\n",
    "$$\n",
    "\tm\\,\\ddot{x}_{p}(t)+c\\,\\dot{x}_{p}(t)+k\\,x_{p}(t)=f(t),\n",
    "$$\n",
    "\n",
    "\n",
    "tako, da predpostavimo harmonski odziv:\n",
    "\n",
    "$$\n",
    "\tx_{p}(t)=X_{p}\\,\\,e^{ \\mathrm{i}\\,\\omega\\,t},\n",
    "$$\n",
    "\n",
    "kjer je $X_{p}$ neznana kompleksna amplituda partikularne komponente (včasih imenovana tudi fazor). Nadaljujemo z izpeljavo:\n",
    "\n",
    "$$\n",
    "\t-\\omega^2\\,m\\,X_{p}\\,e^{ \\mathrm{i}\\,\\omega\\,t}+ \\mathrm{i}\\,\\omega\\,c\\,X_{p}\\,e^{ \\mathrm{i}\\,\\omega\\,t}+k\\,X_{p}\\,\\,e^{ \\mathrm{i}\\,\\omega\\,t}=F\\,e^{ \\mathrm{i}\\,\\omega\\,t}.\n",
    "$$"
   ]
  },
  {
   "cell_type": "markdown",
   "id": "3aa19cee-10a8-4b8e-8628-3fcd12859013",
   "metadata": {},
   "source": [
    "Netrivialna rešitev zahteva $e^{ \\mathrm{i}\\,\\omega\\,t}\\neq 0$ in zato rešitev iščemo na podlagi enačbe:\n",
    "\n",
    "$$\n",
    "\t-\\omega^2\\,m\\,X_{p}+  \\mathrm{i}\\,\\omega\\,c\\,X_{p}+k\\,X_{p}=F,\n",
    "$$\n",
    "\n",
    "kar vodi v določitev razmerja med odzivom $X_p$ in vzbujanjem $F$:\n",
    "\n",
    "$$\n",
    "\t\\frac{X_{p}}{F}=\\frac{1}{-\\omega^2\\,m+ \\mathrm{i}\\,\\omega\\,c+k}.\n",
    "$$\n"
   ]
  },
  {
   "cell_type": "code",
   "execution_count": 25,
   "id": "988bbd5c-51d9-44d4-b02e-f969d0ee72d3",
   "metadata": {
    "tags": [
     "hide-input"
    ]
   },
   "outputs": [
    {
     "data": {
      "image/png": "[encoded data removed]",
      "text/plain": [
       "<Figure size 432x288 with 1 Axes>"
      ]
     },
     "metadata": {
      "needs_background": "light"
     },
     "output_type": "display_data"
    }
   ],
   "source": [
    "import sympy as sym\n",
    "ω, m, c, k= sym.symbols('\\omega, m, c, k', real=True)\n",
    "podatki = {m: 1, c: 1, k: 1}\n",
    "i = sym.I\n",
    "\n",
    "α = 1/(-ω**2 * m + i*ω*c + k)\n",
    "\n",
    "p1 = sym.plot(sym.Abs(α.subs(podatki)), (ω,-10,10), line_color='C0', xlabel='$t$ [s]', ylabel='$x_h(t)$', title='Časovna domena',\n",
    "             label='Ovojnica', show=False)\n",
    "#p2 = sym.plot(x.subs(podatki), (t,0,50), line_color='C1', \n",
    "#             label='$x_h(t)$', show=False)\n",
    "#p1.extend(p2)\n",
    "p1.legend = True\n",
    "p1.show()"
   ]
  },
  {
   "cell_type": "markdown",
   "id": "f2fbd3e8-0ca4-46b5-bfbe-1d6c39e7daf6",
   "metadata": {},
   "source": [
    "Partikularna rešitev je torej:\n",
    "\n",
    "$$\n",
    "\tx_{p}(t)=\\frac{1}{-\\omega^2\\,m+ \\mathrm{i}\\,\\omega\\,c+k}\\,F%\n",
    "\t\\,e^{ \\mathrm{i}\\,\\omega\\,t}.\n",
    "$$"
   ]
  },
  {
   "cell_type": "markdown",
   "id": "228b1f80-9bb1-4a5f-b300-b950359bbdc6",
   "metadata": {},
   "source": [
    "## Prehodni odziv in odziv v stacionarnem stanju.\n",
    "\n",
    "Najprej smo določili homogeno rešitev $x_{h}(t)$, katera predstavlja prehodni odziv na neko začetno motnjo. Partikularna rešitev $x_{p}(t)$ predstavlja rešitev na stacionarno harmonsko motnjo. Rešitev v splošnem definira vsota obeh"
   ]
  },
  {
   "cell_type": "markdown",
   "id": "e58910d4-b0fe-4174-a2b1-0981d7e0fcb4",
   "metadata": {},
   "source": [
    "## Frekvečna prenosna funkcija"
   ]
  },
  {
   "cell_type": "markdown",
   "id": "99843065-8708-41a0-9977-1472c46278fe",
   "metadata": {},
   "source": [
    "Najprej se bomo osredotočili zgolj na partikularno rešitev (vendar več ne bomo uporabljali podpisa $p$):\n",
    "\n",
    "$$\n",
    "\t\\frac{X}{F}=\\frac{1}{-\\omega^2\\,m+ \\mathrm{i}\\,\\omega\\,c+k}.\n",
    "$$\n",
    "\n",
    "Kot zgornji izraz predstavlja frekvenčni odziv, se imenuje **frekvenčna prenosna funkcija** (ang. Frequency Response Function, tudi FRF, glejte TBA za opis načina kako se FRF dobi iz homogene rešitve}:\n",
    "\n",
    "$$\n",
    "\t\\alpha(\\omega)=\\frac{1}{-\\omega^2\\,m+ \\mathrm{i}\\,\\omega\\,c+k}.\n",
    "$$\n",
    "\n"
   ]
  },
  {
   "cell_type": "markdown",
   "id": "dedde513-20f3-47c4-acf1-e2ee45aae32e",
   "metadata": {},
   "source": [
    "Z uporabo nedušene laste krožne frekvence $\\omega_0^2=k/m$, razmernika dušenja $c=\\delta\\,2\\,\\sqrt{k\\,m}$ in relativne frekvence $r=\\frac{\\omega}{\\omega_0}$, dobimo frekvenčni odziv v standardni obliki:\n",
    "$$\n",
    "\t\\alpha(\\omega)=\\frac{1}{k}\\cdot\\frac{1}{1-r^2+2\\, \\mathrm{i}\\,\\delta\\,r}.\n",
    "$$\n",
    "\n",
    "\n",
    "$\\alpha(\\omega)$ se imenuje frekvenčna prenosna funkcija ali bolj natančno **dimenzijska frekvenčna prenosna funkcija** (ang. dimensional frequency response function). V nasprotju z $\\alpha(\\omega)$ je $H_0(\\omega)$ opredeljena kot:\n",
    "\n",
    "\n",
    "$$\n",
    "\t\\begin{split}\n",
    "\t\tH_0(\\omega)&=\\frac{X(\\omega)}{X_0}\n",
    "\t\\end{split}\n",
    "$$"
   ]
  },
  {
   "cell_type": "markdown",
   "id": "1fd36f36-5118-466e-a13b-c9f6ac758433",
   "metadata": {},
   "source": [
    "in se v nekaterih knjigah (npr.: {cite:t}`geradin2014mechanical`) imenovana **brezdimenzijska frekvenčna prenosna funkcija** (ang. nondimensional frequency response function). V izrazu zgoraj je statični poves $X_0$ zaradi statične sile $F$ definiran kot:\n",
    "\n",
    "$$\n",
    "\tX_0=\\frac{F}{k}.\n",
    "$$\n",
    "\n",
    "Harmonski odziv $X(\\omega)$ lahko z brezdimenzionalno frekvenčno prenosno funkcijo definiramo kot:\n",
    "$$\n",
    "\t\\begin{split}\n",
    "\t\tH_0(\\omega)&=\\frac{X(\\omega)}{X_0}\\\\\n",
    "\t\t&=\\frac{k}{-\\omega^2\\,m+ \\mathrm{i}\\,\\omega\\,c+k}\\\\\n",
    "\t\t&=\\frac{1}{1-r^2+ \\mathrm{i}\\,2\\,\\delta\\,r},\n",
    "\t\\end{split}\n",
    "$$\n",
    "\n",
    "Oziroma:\n",
    "\n",
    "$$\n",
    "\t\\alpha(\\omega)=\\frac{H_0(\\omega)}{k}.\n",
    "$$"
   ]
  },
  {
   "cell_type": "markdown",
   "id": "f599fc01-8b98-4890-a805-3707b188b2a0",
   "metadata": {},
   "source": [
    "S FRF je mogoče odziv stacionarnega stanja pri harmonskem vzbujanju s $\\omega_f$ opisati z:\n",
    "\n",
    "$$\n",
    "x(t)=\\alpha(\\omega=\\omega_f)\\,F\\,e^{ \\mathrm{i}\\,\\omega_f\\,t}.\n",
    "$$"
   ]
  },
  {
   "cell_type": "markdown",
   "id": "d98bb79b-8a2d-4ac6-992b-2bd591fac3a4",
   "metadata": {},
   "source": [
    "### Različne oblike FRF\n",
    "\n",
    "Dimenzijski FRF je smiseln, saj je statični odklon $X_0$ težko izmeriti in se pogosto merita vzbujevalna sila in odzivni pospešek. Namesto pospeška pogosto merimo še hitrost in premik). Posledično obstajajo različne oblike frekvenčne prenosne funkcije:\n",
    "$$\n",
    "\t\\begin{aligned}\n",
    "\t\t\\alpha(\\omega)&=\\frac{X(\\omega)}{F(\\omega)},&&\\textrm{podajnost ali receptanca (ang. receptance),}\\\\\n",
    "\t\tY(\\omega)&=\\frac{\\dot X(\\omega)}{F(\\omega)}= \\mathrm{i}\\,\\omega\\,\\alpha(\\omega),&&\\textrm{pomičnost (ang. mobility),}\\\\\n",
    "\t\tA(\\omega)&=\\frac{\\ddot X(\\omega)}{F(\\omega)}=-\\omega^2\\,\\alpha(\\omega),&&\\textrm{pospešenost (ang. accelerance),}\\\\\n",
    "\t\\end{aligned}\n",
    "$$\n"
   ]
  },
  {
   "cell_type": "markdown",
   "id": "034f55ce-c940-45ae-987a-85cd023a4b2a",
   "metadata": {},
   "source": [
    "kjer $\\dot X(\\omega)$ in $\\ddot X(\\omega)$ označujejo kompleksni amplitudi hitrosti ali pospeška v frekvenčni domeni.\n",
    "\n",
    ":::{note}\n",
    "\n",
    "Inverzna vrednost pospešenosti **dinamična masa** ($F/\\ddot{X}$), inverzna vrednost pomičnosti je **mehanska impedanca** ($ F/\\dot{X}$) in inverzna od podajnosti **dinamična togost** ($F/X$).\n",
    "\n",
    ":::"
   ]
  },
  {
   "cell_type": "code",
   "execution_count": null,
   "id": "a033ec3e-34f5-4f78-a4b4-e1013850d838",
   "metadata": {},
   "outputs": [],
   "source": []
  }
 ],
 "metadata": {
  "kernelspec": {
   "display_name": "Python 3 (ipykernel)",
   "language": "python",
   "name": "python3"
  },
  "language_info": {
   "codemirror_mode": {
    "name": "ipython",
    "version": 3
   },
   "file_extension": ".py",
   "mimetype": "text/x-python",
   "name": "python",
   "nbconvert_exporter": "python",
   "pygments_lexer": "ipython3",
   "version": "3.9.4"
  },
  "toc-showmarkdowntxt": true,
  "toc-showtags": true
 },
 "nbformat": 4,
 "nbformat_minor": 5
}
