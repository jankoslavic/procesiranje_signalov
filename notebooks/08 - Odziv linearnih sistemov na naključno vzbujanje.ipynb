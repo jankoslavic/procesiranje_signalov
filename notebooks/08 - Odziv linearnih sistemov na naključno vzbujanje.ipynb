{
 "cells": [
  {
   "cell_type": "markdown",
   "id": "5e6eb3da",
   "metadata": {},
   "source": [
    "# Odziv linearnih sistemov na naključno vzbujanje"
   ]
  },
  {
   "cell_type": "markdown",
   "id": "abed2e42-cd74-4352-8429-ac9eb5a68bb4",
   "metadata": {},
   "source": [
    "Vrnimo se k linearnemu sistemu z eno prostostno stopnjo (glejte lastnosti: {ref}`sec:LTI_lastnosti`):\n",
    "\n",
    "$$\n",
    "\t\\underbrace{f(t)}_{\\textrm{Vzbujanje}}\\to {\\textrm{Sistem}}\\to \\underbrace{x(t)}_{\\textrm{Odziv}}.\n",
    "$$\n",
    "\n",
    "Odziv na deterministično vzbujanje izračunamo s pomočjo konvolucije:\n",
    "\n",
    "$$\n",
    "\tx(t) = \\int_{-\\infty}^{t}\\,f(\\tau)\\,h(t-\\tau)\\,\\textrm{d}  \\tau =\n",
    "\t\\int_{0}^{+\\infty}\\,h(\\tau)\\,f(t-\\tau)\\,\\textrm{d}  \\tau,\n",
    "$$\n",
    "\n",
    "kjer je $h(t)$ impulzna prenosna funkcija, ki definira linearni sistem."
   ]
  },
  {
   "cell_type": "markdown",
   "id": "1a3179a1-5b59-4204-8408-af87aa7c6cf2",
   "metadata": {},
   "source": [
    "## Srednja vrednost odziva\n",
    "\n",
    "V nadaljevanju bomo predpostavili, da je vzbujanje $f(t)$ naključno in izračunajmo najprej pričakovano srednjo vrednost odziva. Uporabiti moramo operator pričakovanja $E[]$:\n",
    "\n",
    "$$\n",
    "\t\\mu_x = E[x(t)] = E\\Big[\n",
    "\t\\int_{0}^{+\\infty}\\,h(\\tau)\\,f(t-\\tau)\\,\\textrm{d}  \\tau \\Big],\n",
    "$$\n",
    "\n",
    "ker je naključna vrednost samo pri vzbujanju $f(t)$, sledi\n",
    "\n",
    "$$\n",
    "\t\\mu_x = \n",
    "\t\\int_{0}^{+\\infty}\\,h(\\tau)\\,E\\big[f(t-\\tau)\\big]\\,\\textrm{d}  \\tau\n",
    "    = \n",
    "\t\\int_{0}^{+\\infty}\\,h(\\tau)\\,\\mu_f\\,\\textrm{d}  \\tau ,\n",
    "    = \n",
    "\t\\mu_f\\,\\int_{0}^{+\\infty}\\,h(\\tau)\\,\\textrm{d}  \\tau ,\n",
    "$$\n",
    "Od tukaj pa sledi sklep:\n",
    "\n",
    ":::{note}\n",
    "\n",
    "Če opazujemo proces, ki ima na vhodu/vzbujanju srednjo vrednost enako nič, bo tudi srednja vrednost odziva enaka nič (ne glede na impulzno prenosno funkcijo):\n",
    "\n",
    "$$\n",
    "\\mu_x = \\mu_f\\,\\int_{0}^{+\\infty}\\,h(\\tau)\\,\\textrm{d}  \\tau ,\n",
    "$$\n",
    "\n",
    ":::"
   ]
  },
  {
   "cell_type": "markdown",
   "id": "0b834876-5926-4681-a749-2541d1714c6e",
   "metadata": {},
   "source": [
    "## Avtokorelacija\n",
    "\n",
    "Tukaj želimo odgovoriti na vprašanje kako je avtokorelacija vzbujanja $R_{ff}(\\tau)$ povezana z avtokorelacijo odziva $R_{xx}(\\tau)$, poglejmo detajle:\n",
    "\n",
    "$$\n",
    "\\begin{split}\n",
    "R_{xx}(\\tau)&=E\\big[x(t)\\,x(t+\\tau)\\big]\\\\\n",
    "&=E\\Big[\\int_{0}^{+\\infty}\\int_{0}^{+\\infty}\\,h(\\tau_1)\\,f(t-\\tau_1)\\,\\,h(\\tau_2)\\,f(t+\\tau-\\tau_2)\\,\\textrm{d}  \\tau_1\\,\\textrm{d}  \\tau_2\\Big]\n",
    "\\end{split}\n",
    "$$\n",
    "\n",
    "Nadaljujemo z izpeljavo ($h(t)$ nima pričakovanja, velja $h(t)=E[h(t)]$):\n",
    "\n",
    "$$\n",
    "R_{xx}(\\tau)\n",
    "=\\int_{0}^{+\\infty}\\int_{0}^{+\\infty}\\,h(\\tau_1)\\,h(\\tau_2)\\,E\\Big[f(t-\\tau_1)\\,f(t+\\tau-\\tau_2)\\big]\\,\\textrm{d}  \\tau_1\\,\\textrm{d}  \\tau_2\n",
    "$$\n",
    "\n",
    "Uporabimo zamenjavo $t_1=t-\\tau_1$ iz česar sledi $E\\Big[f(t-\\tau_1)\\,f(t+\\tau-\\tau_2)\\big]=E\\Big[f(t_1)\\,f(t_1+\\tau_1+\\tau-\\tau_2)\\big]=R_{ff}(\\tau+\\tau_1-\\tau_2)$ in nato:\n",
    "\n",
    "$$\n",
    "R_{xx}(\\tau)\n",
    "=\\int_{0}^{+\\infty}\\int_{0}^{+\\infty}\\,h(\\tau_1)\\,h(\\tau_2)\\,R_{ff}(\\tau+\\tau_1-\\tau_2)\\,\\textrm{d}  \\tau_1\\,\\textrm{d}  \\tau_2\n",
    "$$"
   ]
  },
  {
   "cell_type": "markdown",
   "id": "9375d15a-17b3-412a-8461-8412ef0570ea",
   "metadata": {},
   "source": [
    "Naredimo sedaj prehod v frekvenčno domeno:\n",
    "\n",
    "$$\n",
    "\\begin{split}\n",
    "S_{xx} &= \\int_{-\\infty}^{+\\infty}R_{xx}(\\tau)\\,e^{-\\textrm{i}\\,2\\pi\\,f\\,\\tau}\\,\\textrm{d}\\tau\\\\\n",
    "&=\n",
    "\\underbrace{\\int_{0}^{+\\infty}\\,h(\\tau_1)\\,e^{+\\textrm{i}\\,2\\pi\\,f\\,\\tau_1}\\,\\textrm{d}  \\tau_1}_{H^*(f)}\\,\n",
    "\\underbrace{\\int_{0}^{+\\infty}\\,h(\\tau_2)\\,e^{-\\textrm{i}\\,2\\pi\\,f\\,\\tau_2}\\,\\textrm{d}  \\tau_2}_{H(f)}\\,\n",
    "\\underbrace{\\int_{-\\infty}^{+\\infty}R_{ff}(u)\\,e^{-\\textrm{i}\\,2\\pi\\,f\\,u}\\,\\textrm{d}  u}_{S_{ff}(f)}.\n",
    "\\end{split}\n",
    "$$\n",
    "\n",
    "Opomba: v zgornjem izrazu smo uporabili zamenjavo: $u=\\tau+\\tau_1-\\tau_2$ in posledično $e^{-\\textrm{i}\\,2\\pi\\,f\\,\\tau}=e^{-\\textrm{i}\\,2\\pi\\,f\\,(u-\\tau_1+\\tau_2)}$ ter nato ločili integracijske spremenljivke.\n",
    "\n",
    "Končni rezultat je:\n",
    "\n",
    ":::{note}\n",
    "\n",
    "Avto-spektralna gostota moči na odzivni strani je definirana kot:\n",
    "\n",
    "$$\n",
    "S_{xx} = H^*(f)\\,H(f)\\,S_{ff}(f),\n",
    "$$\n",
    "\n",
    "kjer ${}^*$ označuje kompleksno konjugirano vrednost.\n",
    "\n",
    ":::"
   ]
  },
  {
   "cell_type": "markdown",
   "id": "5302dfb9-3751-40fb-8765-b8f3fe8f52b6",
   "metadata": {},
   "source": [
    "## Križna korelacija\n",
    "\n",
    "Poglejmo si sedaj še križno korelacijo vzbujanja $R_{fx}(\\tau)$:\n",
    "\n",
    "$$\n",
    "\\begin{split}\n",
    "R_{fx}(\\tau)&=E\\big[f(t)\\,x(t+\\tau)\\big]\\\\\n",
    "&=E\\Big[\\int_{0}^{+\\infty}f(t)\\,h(\\tau_1)\\,f(t+\\tau-\\tau_1)\\,\\textrm{d}  \\tau_1\\Big]\\\\\n",
    "&=\\int_{0}^{+\\infty}h(\\tau_1)\\,E\\big[f(t)\\,f(t+\\tau-\\tau_1)\\big]\\,\\textrm{d}  \\tau_1\\\\\n",
    "&=\\int_{0}^{+\\infty}h(\\tau_1)\\,R_{ff}(\\tau-\\tau_1)\\,\\textrm{d}  \\tau_1\n",
    "\\end{split}\n",
    "$$"
   ]
  },
  {
   "cell_type": "markdown",
   "id": "39dfac13-16b6-4dd5-bf72-52cfd6d099da",
   "metadata": {},
   "source": [
    "Naredimo sedaj prehod v frekvenčno domeno:\n",
    "\n",
    "$$\n",
    "\\begin{split}\n",
    "S_{fx} &= \\int_{-\\infty}^{+\\infty}R_{fx}(\\tau)\\,e^{-\\textrm{i}\\,2\\pi\\,f\\,\\tau}\\,\\textrm{d}\\tau\\\\\n",
    "&=\n",
    "\\underbrace{\\int_{0}^{+\\infty}\\,h(\\tau_1)\\,e^{-\\textrm{i}\\,2\\pi\\,f\\,\\tau_1}\\,\\textrm{d}  \\tau_1}_{H(f)}\\,\n",
    "\\underbrace{\\int_{-\\infty}^{+\\infty}R_{ff}(u)\\,e^{-\\textrm{i}\\,2\\pi\\,f\\,u}\\,\\textrm{d}  u}_{S_{ff}(f)}.\n",
    "\\end{split}\n",
    "$$\n",
    "\n",
    "Opomba: v zgornjem izrazu smo uporabili zamenjavo: $u=\\tau-\\tau_1$ in posledično $e^{-\\textrm{i}\\,2\\pi\\,f\\,\\tau}=e^{-\\textrm{i}\\,2\\pi\\,f\\,(u+\\tau_1)}$ ter nato ločili integracijske spremenljivke.\n",
    "Končni rezultat je:\n",
    "\n",
    ":::{note}\n",
    "\n",
    "Križno-spektralna gostota moči je definirana kot:\n",
    "\n",
    "$$\n",
    "S_{fx} = H(f)\\,S_{ff}(f).\n",
    "$$\n",
    "\n",
    ":::"
   ]
  },
  {
   "cell_type": "markdown",
   "id": "799a7bd7-c102-40d0-9c7a-30a3d675181e",
   "metadata": {},
   "source": [
    "Za razliko od avto-spektralne gostoste, križno-spektralna gostota ohranja fazno informacijo!"
   ]
  },
  {
   "cell_type": "markdown",
   "id": "9233f4d4-4897-4dd0-833a-f86d60aa6cbc",
   "metadata": {},
   "source": [
    "### Zgled\n",
    "\n",
    "S pomočjo zgleda spodaj si bomo pogledali avto- in križno- spektralno gostoto na naključno generiranih, normalno porazdeljenih, podatkih."
   ]
  },
  {
   "cell_type": "code",
   "execution_count": null,
   "id": "00a97d08-0ecd-4dba-9f22-58390252e2e2",
   "metadata": {
    "tags": [
     "hide-input"
    ]
   },
   "outputs": [],
   "source": [
    "import numpy as np\n",
    "import matplotlib.pyplot as plt\n",
    "\n",
    "rng = np.random.default_rng(0)\n",
    "N = 5000\n",
    "dt = 1./250\n",
    "f = rng.normal(size=N)\n",
    "time = np.arange(N)*dt\n",
    "\n",
    "F = np.fft.rfft(f)\n",
    "freq = np.fft.rfftfreq(N, d=dt)\n",
    "Gff = 2*np.abs(F.conj()*F)/N\n",
    "\n",
    "def alpha(freq, m, k, c):\n",
    "    \"\"\"\n",
    "    Frekvenčna prenosna funkcija linearnega oscilatorja.\n",
    "    \"\"\"\n",
    "    omega = 2*np.pi*freq\n",
    "    return 1 / (-omega**2*m + 1j*omega*c + k)\n",
    "\n",
    "H = alpha(freq, m=1,k=1e5,c=10)\n",
    "Gxx = np.abs(H.conj()*H*Gff)\n",
    "Gfx = H*Gff\n",
    "\n",
    "plt.title('Avto-spektralna gostota moči')\n",
    "plt.semilogy(freq, Gff, label='Vzbujanje $G_{ff}$')\n",
    "plt.semilogy(freq, Gxx, label='Odziv $G_{xx}$')\n",
    "plt.xlabel('Frekvenca [Hz]')\n",
    "plt.legend()\n",
    "plt.show()\n",
    "\n",
    "\n",
    "fig, ax = plt.subplots()\n",
    "ax.set_title('Avtospektralna gostota moči')\n",
    "ax.semilogy(freq, np.abs(Gfx), label='$|G_{fx}(f)|$')\n",
    "ax.legend(loc=3)\n",
    "ax.set_xlabel('f [Hz]')\n",
    "ax.set_ylabel('$|G_{fx}(f)|$')\n",
    "ax2 = ax.twinx() \n",
    "ax2.plot(freq, np.angle(Gfx), 'C1', label='$\\\\angle G_{fx}(f)$')\n",
    "ax2.set_xlabel('f [Hz]')\n",
    "ax2.set_ylabel('$\\\\angle G_{fx}(f)$ [rad]')\n",
    "ax2.legend(loc=4)\n",
    "plt.show()"
   ]
  },
  {
   "cell_type": "markdown",
   "id": "bdac81bc-c3ec-4f7e-b61b-7024474ef8c9",
   "metadata": {},
   "source": [
    "## Koherenca\n",
    "\n",
    ":::{note}\n",
    "\n",
    "Koherenca je definirana kot:\n",
    "\n",
    "$$\n",
    "\\gamma_{fx}^2(f)=\\frac{|G_{fx}(f)|^2}{G_{ff}(f)\\,G_{xx}(f)}\n",
    "=\\frac{|S_{fx}(f)|^2}{S_{ff}(f)\\,S_{xx}(f)}\n",
    "$$\n",
    "\n",
    ":::\n",
    "\n",
    "in predstavlja merilo linearne povezanosti med vhodom (vzbujanjem $f$) in izhodom (odzivom $x$) sistema. "
   ]
  },
  {
   "cell_type": "markdown",
   "id": "28e3b526-3f33-4f41-8213-38706816ac20",
   "metadata": {},
   "source": [
    "Ker velja:\n",
    "\n",
    "$$\n",
    "|\\underbrace{S_{fx}(f)}_{\\frac{1}{T}\\, F^*(f) \\, X(f)}|^2\\le \\underbrace{S_{ff}(f)}_{\\frac{1}{T}\\, F^*(f) \\, F(f)}\\,\\overbrace{S_{xx}(f)}^{\\frac{1}{T}\\, X^*(f) \\, X(f)},\n",
    "$$\n",
    "\n",
    "se koherenca $\\gamma_{fx}^2(f)$ nahaja v območju od 0 do 1:\n",
    "\n",
    "$$\n",
    "0\\le\\gamma_{fx}^2(f)\\le 1\n",
    "$$\n",
    "\n",
    "Če je koherenca 0, to pomeni, da vzbujanje in odziv nista povezana, če je koherenca 1, pa to pomeni, da sta vzbujanje in odziv linearno odvisna. Odstopanje od 1 se izmeri tudi takrat, ko imamo v meritvi šum, obravnavamo nelinearen sistem ali pa je odziv posledica (tudi) drugih vzbujanj in ne samo $f(t)$."
   ]
  }
 ],
 "metadata": {
  "kernelspec": {
   "display_name": "Python 3 (ipykernel)",
   "language": "python",
   "name": "python3"
  },
  "language_info": {
   "codemirror_mode": {
    "name": "ipython",
    "version": 3
   },
   "file_extension": ".py",
   "mimetype": "text/x-python",
   "name": "python",
   "nbconvert_exporter": "python",
   "pygments_lexer": "ipython3",
   "version": "3.9.4"
  }
 },
 "nbformat": 4,
 "nbformat_minor": 5
}
